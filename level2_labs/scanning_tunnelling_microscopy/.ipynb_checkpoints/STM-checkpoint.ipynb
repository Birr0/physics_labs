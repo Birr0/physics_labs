{
 "cells": [
  {
   "cell_type": "code",
   "execution_count": 1,
   "id": "9a6adb40",
   "metadata": {},
   "outputs": [],
   "source": [
    "import pandas as pd\n",
    "from matplotlib import pyplot as plt\n",
    "import numpy as np\n",
    "from sklearn.linear_model import LinearRegression"
   ]
  },
  {
   "cell_type": "code",
   "execution_count": 123,
   "id": "f2942c66",
   "metadata": {},
   "outputs": [],
   "source": []
  },
  {
   "cell_type": "markdown",
   "id": "e311f5b0",
   "metadata": {},
   "source": [
    "## Graphene "
   ]
  },
  {
   "cell_type": "code",
   "execution_count": 2,
   "id": "6db0962c",
   "metadata": {},
   "outputs": [],
   "source": [
    "GR_data = pd.read_excel('./STM.xlsx', sheet_name=\"Graphene-Part2\")\n",
    "GR_EXMP_data = pd.read_excel('./STM_examplar_data.xlsx', sheet_name=\"Graphite\")"
   ]
  },
  {
   "cell_type": "code",
   "execution_count": 25,
   "id": "ec6fc3b4",
   "metadata": {},
   "outputs": [],
   "source": [
    "filtered_GR_data = GR_data[1:][GR_data[1:][\"X-Axis'\"] >= 90.2]\n"
   ]
  },
  {
   "cell_type": "code",
   "execution_count": 36,
   "id": "b34d6b08",
   "metadata": {},
   "outputs": [
    {
     "data": {
      "text/plain": [
       "LinearRegression()"
      ]
     },
     "execution_count": 36,
     "metadata": {},
     "output_type": "execute_result"
    }
   ],
   "source": [
    "graphite_model = LinearRegression()\n",
    "graphite_model.fit(np.array(filtered_GR_data[\"X-Axis'\"]).reshape(-1,1),np.log(filtered_GR_data[\"Tip current'\"].astype('float64')))\n",
    "#print(graphene_model.score(np.array(filtered_GR_data[\"X-Axis'\"]).reshape(-1,1),np.log(filtered_GR_data[\"Tip current'\"].astype('float64'))))\n"
   ]
  },
  {
   "cell_type": "code",
   "execution_count": 37,
   "id": "569a9d50",
   "metadata": {},
   "outputs": [
    {
     "data": {
      "text/plain": [
       "array([2.45665259])"
      ]
     },
     "execution_count": 37,
     "metadata": {},
     "output_type": "execute_result"
    }
   ],
   "source": [
    "graphite_model.coef_\n",
    "#graphite_model.score(np.array(filtered_GR_data[\"X-Axis'\"]).reshape(-1,1),np.log(filtered_GR_data[\"Tip current'\"].astype('float64')))"
   ]
  },
  {
   "cell_type": "code",
   "execution_count": 30,
   "id": "cf60b59e",
   "metadata": {},
   "outputs": [],
   "source": [
    "graphite_distance = np.linspace(90, 95, 100)"
   ]
  },
  {
   "cell_type": "code",
   "execution_count": 57,
   "id": "c79bfef7",
   "metadata": {
    "scrolled": false
   },
   "outputs": [
    {
     "data": {
      "image/png": "[encoded data removed]",
      "text/plain": [
       "<Figure size 432x288 with 1 Axes>"
      ]
     },
     "metadata": {
      "needs_background": "light"
     },
     "output_type": "display_data"
    }
   ],
   "source": [
    "ax = plt.axes()\n",
    "ax.set_xlabel('Distance / nm')\n",
    "ax.set_ylabel(r'$ln (I/nA)$')\n",
    "plt.plot(graphite_distance, graphite_model.predict(graphite_distance[:, np.newaxis]), linestyle='dashed', color='red', label='Fit')\n",
    "plt.errorbar(filtered_GR_data[\"X-Axis'\"],np.log(filtered_GR_data[\"Tip current'\"].astype('float64')), yerr= np.log(filtered_GR_data[\"Tip current'\"].astype('float64') + 0.05) - np.log(filtered_GR_data[\"Tip current'\"].astype('float64')) + 0.4, xerr=len(filtered_GR_data[\"X-Axis'\"]) * [0.1], fmt='o', color=\"black\", label='Graphite measurements')\n",
    "plt.legend(loc='lower right')\n",
    "plt.savefig('graphite_model.png')"
   ]
  },
  {
   "cell_type": "code",
   "execution_count": 45,
   "id": "a03251f3",
   "metadata": {},
   "outputs": [
    {
     "data": {
      "text/plain": [
       "LinearRegression()"
      ]
     },
     "execution_count": 45,
     "metadata": {},
     "output_type": "execute_result"
    }
   ],
   "source": [
    "graphite_model_max = LinearRegression()\n",
    "graphite_model_max.fit(np.array(filtered_GR_data[\"X-Axis'\"]).reshape(-1,1),np.log(filtered_GR_data[\"Tip current'\"].astype('float64') + 0.55))\n",
    "#print(graphene_model.score(np.array(filtered_GR_data[\"X-Axis'\"]).reshape(-1,1),np.log(filtered_GR_data[\"Tip current'\"].astype('float64'))))"
   ]
  },
  {
   "cell_type": "code",
   "execution_count": 46,
   "id": "a70e8f60",
   "metadata": {},
   "outputs": [
    {
     "data": {
      "text/plain": [
       "array([1.19900219])"
      ]
     },
     "execution_count": 46,
     "metadata": {},
     "output_type": "execute_result"
    }
   ],
   "source": [
    "graphite_model_max.coef_"
   ]
  },
  {
   "cell_type": "markdown",
   "id": "8edd84b9",
   "metadata": {},
   "source": [
    "## Gold"
   ]
  },
  {
   "cell_type": "code",
   "execution_count": 10,
   "id": "34b3beec",
   "metadata": {},
   "outputs": [],
   "source": [
    "AU_data = pd.read_excel('./STM.xlsx', sheet_name=\"Gold-Part1\")\n",
    "AU_EXMP_data = pd.read_excel('./STM_examplar_data.xlsx', sheet_name=\"Gold\")"
   ]
  },
  {
   "cell_type": "code",
   "execution_count": 14,
   "id": "5dc07213",
   "metadata": {},
   "outputs": [],
   "source": [
    "filtered_AU_data = AU_data[1:][AU_data[1:][\"Tip current'\"] >= 0.01]"
   ]
  },
  {
   "cell_type": "code",
   "execution_count": 15,
   "id": "13c47cb3",
   "metadata": {},
   "outputs": [
    {
     "name": "stdout",
     "output_type": "stream",
     "text": [
      "0.9751051411704009\n"
     ]
    }
   ],
   "source": [
    "gold_model = LinearRegression()\n",
    "gold_model.fit(np.array(filtered_AU_data[\"X-Axis'\"]).reshape(-1,1),np.log(filtered_AU_data[\"Tip current'\"].astype('float64')))\n",
    "print(gold_model.score(np.array(filtered_AU_data[\"X-Axis'\"]).reshape(-1,1),np.log(filtered_AU_data[\"Tip current'\"].astype('float64'))))\n"
   ]
  },
  {
   "cell_type": "code",
   "execution_count": 16,
   "id": "274adbbf",
   "metadata": {},
   "outputs": [
    {
     "data": {
      "text/plain": [
       "array([15.20833154])"
      ]
     },
     "execution_count": 16,
     "metadata": {},
     "output_type": "execute_result"
    }
   ],
   "source": [
    "gold_model.coef_"
   ]
  },
  {
   "cell_type": "code",
   "execution_count": 17,
   "id": "1dc5f2af",
   "metadata": {},
   "outputs": [],
   "source": [
    "au_distance = np.linspace(-9.87, -9.57, 100)"
   ]
  },
  {
   "cell_type": "code",
   "execution_count": 50,
   "id": "66899579",
   "metadata": {
    "scrolled": false
   },
   "outputs": [
    {
     "data": {
      "image/png": "[encoded data removed]",
      "text/plain": [
       "<Figure size 432x288 with 1 Axes>"
      ]
     },
     "metadata": {
      "needs_background": "light"
     },
     "output_type": "display_data"
    }
   ],
   "source": [
    "ax = plt.axes()\n",
    "ax.set_xlabel('Distance / nm')\n",
    "ax.set_ylabel(r'$ln (I/nA)$ ')\n",
    "plt.plot(au_distance, gold_model.predict(au_distance[:, np.newaxis]), linestyle='dashed', color='red', label='Fit')\n",
    "plt.errorbar(filtered_AU_data[\"X-Axis'\"],np.log(filtered_AU_data[\"Tip current'\"].astype('float64')), yerr=(np.log(filtered_AU_data[\"Tip current'\"].astype('float64') + 0.008) - np.log(filtered_AU_data[\"Tip current'\"].astype('float64'))), xerr=len(filtered_AU_data[\"X-Axis'\"]) * [0.01], fmt='o', color=\"black\", label='Au measurements')\n",
    "plt.legend(loc='lower right')\n",
    "plt.savefig('au_gradient.png')"
   ]
  },
  {
   "cell_type": "code",
   "execution_count": 24,
   "id": "14b88c83",
   "metadata": {},
   "outputs": [
    {
     "data": {
      "text/plain": [
       "array([14.63587671])"
      ]
     },
     "execution_count": 24,
     "metadata": {},
     "output_type": "execute_result"
    }
   ],
   "source": [
    "gold_model_max = LinearRegression()\n",
    "gold_model_max.fit(np.array(filtered_AU_data[\"X-Axis'\"]).reshape(-1,1),np.log(filtered_AU_data[\"Tip current'\"].astype('float64') + 0.0034))\n",
    "gold_model_max.coef_"
   ]
  }
 ],
 "metadata": {
  "kernelspec": {
   "display_name": "Python 3",
   "language": "python",
   "name": "python3"
  },
  "language_info": {
   "codemirror_mode": {
    "name": "ipython",
    "version": 3
   },
   "file_extension": ".py",
   "mimetype": "text/x-python",
   "name": "python",
   "nbconvert_exporter": "python",
   "pygments_lexer": "ipython3",
   "version": "3.8.8"
  }
 },
 "nbformat": 4,
 "nbformat_minor": 5
}
