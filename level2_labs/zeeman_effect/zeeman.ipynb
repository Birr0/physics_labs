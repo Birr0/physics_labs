{
 "cells": [
  {
   "cell_type": "code",
   "execution_count": 135,
   "id": "12bcd7a6",
   "metadata": {},
   "outputs": [],
   "source": [
    "import pandas as pd\n",
    "from matplotlib import pyplot as plt\n",
    "import numpy as np\n",
    "import statistics"
   ]
  },
  {
   "cell_type": "code",
   "execution_count": 136,
   "id": "f4ab33ea",
   "metadata": {},
   "outputs": [],
   "source": [
    "data = pd.read_excel(\"zeeman.xlsx\")"
   ]
  },
  {
   "cell_type": "code",
   "execution_count": 137,
   "id": "d802554e",
   "metadata": {},
   "outputs": [
    {
     "data": {
      "text/html": [
       "<div>\n",
       "<style scoped>\n",
       "    .dataframe tbody tr th:only-of-type {\n",
       "        vertical-align: middle;\n",
       "    }\n",
       "\n",
       "    .dataframe tbody tr th {\n",
       "        vertical-align: top;\n",
       "    }\n",
       "\n",
       "    .dataframe thead th {\n",
       "        text-align: right;\n",
       "    }\n",
       "</style>\n",
       "<table border=\"1\" class=\"dataframe\">\n",
       "  <thead>\n",
       "    <tr style=\"text-align: right;\">\n",
       "      <th></th>\n",
       "      <th>B / mT</th>\n",
       "      <th>a1 / °</th>\n",
       "      <th>a2 / °</th>\n",
       "      <th>&amp;D&amp;l/&amp;l / %</th>\n",
       "      <th>DE / µeV</th>\n",
       "      <th>deltaE/B</th>\n",
       "      <th>Bohr magneton</th>\n",
       "    </tr>\n",
       "  </thead>\n",
       "  <tbody>\n",
       "    <tr>\n",
       "      <th>0</th>\n",
       "      <td>6</td>\n",
       "      <td>1.075</td>\n",
       "      <td>1.067</td>\n",
       "      <td>0.00012</td>\n",
       "      <td>-2.3</td>\n",
       "      <td>0.383333</td>\n",
       "      <td>6.133333e-23</td>\n",
       "    </tr>\n",
       "    <tr>\n",
       "      <th>1</th>\n",
       "      <td>51</td>\n",
       "      <td>1.075</td>\n",
       "      <td>1.084</td>\n",
       "      <td>-0.00014</td>\n",
       "      <td>2.8</td>\n",
       "      <td>0.054902</td>\n",
       "      <td>8.784314e-24</td>\n",
       "    </tr>\n",
       "    <tr>\n",
       "      <th>2</th>\n",
       "      <td>51</td>\n",
       "      <td>1.075</td>\n",
       "      <td>1.053</td>\n",
       "      <td>0.00033</td>\n",
       "      <td>-6.4</td>\n",
       "      <td>0.125490</td>\n",
       "      <td>2.007843e-23</td>\n",
       "    </tr>\n",
       "    <tr>\n",
       "      <th>3</th>\n",
       "      <td>89</td>\n",
       "      <td>1.075</td>\n",
       "      <td>1.087</td>\n",
       "      <td>-0.00019</td>\n",
       "      <td>3.7</td>\n",
       "      <td>0.041573</td>\n",
       "      <td>6.651685e-24</td>\n",
       "    </tr>\n",
       "    <tr>\n",
       "      <th>4</th>\n",
       "      <td>89</td>\n",
       "      <td>1.075</td>\n",
       "      <td>1.056</td>\n",
       "      <td>0.00029</td>\n",
       "      <td>-5.6</td>\n",
       "      <td>0.062921</td>\n",
       "      <td>1.006742e-23</td>\n",
       "    </tr>\n",
       "    <tr>\n",
       "      <th>5</th>\n",
       "      <td>131</td>\n",
       "      <td>1.075</td>\n",
       "      <td>1.043</td>\n",
       "      <td>0.00048</td>\n",
       "      <td>-9.3</td>\n",
       "      <td>0.070992</td>\n",
       "      <td>1.135878e-23</td>\n",
       "    </tr>\n",
       "    <tr>\n",
       "      <th>6</th>\n",
       "      <td>131</td>\n",
       "      <td>1.075</td>\n",
       "      <td>1.095</td>\n",
       "      <td>-0.00031</td>\n",
       "      <td>6.0</td>\n",
       "      <td>0.045802</td>\n",
       "      <td>7.328244e-24</td>\n",
       "    </tr>\n",
       "    <tr>\n",
       "      <th>7</th>\n",
       "      <td>170</td>\n",
       "      <td>1.075</td>\n",
       "      <td>1.039</td>\n",
       "      <td>0.00055</td>\n",
       "      <td>-10.6</td>\n",
       "      <td>0.062353</td>\n",
       "      <td>9.976471e-24</td>\n",
       "    </tr>\n",
       "    <tr>\n",
       "      <th>8</th>\n",
       "      <td>170</td>\n",
       "      <td>1.075</td>\n",
       "      <td>1.108</td>\n",
       "      <td>-0.00051</td>\n",
       "      <td>9.9</td>\n",
       "      <td>0.058235</td>\n",
       "      <td>9.317647e-24</td>\n",
       "    </tr>\n",
       "    <tr>\n",
       "      <th>9</th>\n",
       "      <td>210</td>\n",
       "      <td>1.075</td>\n",
       "      <td>1.030</td>\n",
       "      <td>0.00067</td>\n",
       "      <td>-12.9</td>\n",
       "      <td>0.061429</td>\n",
       "      <td>9.828571e-24</td>\n",
       "    </tr>\n",
       "    <tr>\n",
       "      <th>10</th>\n",
       "      <td>210</td>\n",
       "      <td>1.075</td>\n",
       "      <td>1.110</td>\n",
       "      <td>-0.00054</td>\n",
       "      <td>10.4</td>\n",
       "      <td>0.049524</td>\n",
       "      <td>7.923810e-24</td>\n",
       "    </tr>\n",
       "    <tr>\n",
       "      <th>11</th>\n",
       "      <td>246</td>\n",
       "      <td>1.075</td>\n",
       "      <td>1.020</td>\n",
       "      <td>0.00082</td>\n",
       "      <td>-15.8</td>\n",
       "      <td>0.064228</td>\n",
       "      <td>1.027642e-23</td>\n",
       "    </tr>\n",
       "    <tr>\n",
       "      <th>12</th>\n",
       "      <td>246</td>\n",
       "      <td>1.075</td>\n",
       "      <td>1.119</td>\n",
       "      <td>-0.00068</td>\n",
       "      <td>13.1</td>\n",
       "      <td>0.053252</td>\n",
       "      <td>8.520325e-24</td>\n",
       "    </tr>\n",
       "    <tr>\n",
       "      <th>13</th>\n",
       "      <td>288</td>\n",
       "      <td>1.075</td>\n",
       "      <td>1.012</td>\n",
       "      <td>0.00093</td>\n",
       "      <td>-18.0</td>\n",
       "      <td>0.062500</td>\n",
       "      <td>1.000000e-23</td>\n",
       "    </tr>\n",
       "    <tr>\n",
       "      <th>14</th>\n",
       "      <td>288</td>\n",
       "      <td>1.075</td>\n",
       "      <td>1.126</td>\n",
       "      <td>-0.00080</td>\n",
       "      <td>15.5</td>\n",
       "      <td>0.053819</td>\n",
       "      <td>8.611111e-24</td>\n",
       "    </tr>\n",
       "    <tr>\n",
       "      <th>15</th>\n",
       "      <td>329</td>\n",
       "      <td>1.075</td>\n",
       "      <td>1.002</td>\n",
       "      <td>0.00109</td>\n",
       "      <td>-20.9</td>\n",
       "      <td>0.063526</td>\n",
       "      <td>1.016413e-23</td>\n",
       "    </tr>\n",
       "    <tr>\n",
       "      <th>16</th>\n",
       "      <td>329</td>\n",
       "      <td>1.075</td>\n",
       "      <td>1.133</td>\n",
       "      <td>-0.00091</td>\n",
       "      <td>17.6</td>\n",
       "      <td>0.053495</td>\n",
       "      <td>8.559271e-24</td>\n",
       "    </tr>\n",
       "    <tr>\n",
       "      <th>17</th>\n",
       "      <td>361</td>\n",
       "      <td>1.075</td>\n",
       "      <td>0.993</td>\n",
       "      <td>0.00122</td>\n",
       "      <td>-23.4</td>\n",
       "      <td>0.064820</td>\n",
       "      <td>1.037119e-23</td>\n",
       "    </tr>\n",
       "    <tr>\n",
       "      <th>18</th>\n",
       "      <td>361</td>\n",
       "      <td>1.075</td>\n",
       "      <td>1.138</td>\n",
       "      <td>-0.00100</td>\n",
       "      <td>19.2</td>\n",
       "      <td>0.053186</td>\n",
       "      <td>8.509695e-24</td>\n",
       "    </tr>\n",
       "    <tr>\n",
       "      <th>19</th>\n",
       "      <td>397</td>\n",
       "      <td>1.075</td>\n",
       "      <td>0.986</td>\n",
       "      <td>0.00131</td>\n",
       "      <td>-25.2</td>\n",
       "      <td>0.063476</td>\n",
       "      <td>1.015617e-23</td>\n",
       "    </tr>\n",
       "    <tr>\n",
       "      <th>20</th>\n",
       "      <td>397</td>\n",
       "      <td>1.075</td>\n",
       "      <td>1.146</td>\n",
       "      <td>-0.00112</td>\n",
       "      <td>21.6</td>\n",
       "      <td>0.054408</td>\n",
       "      <td>8.705290e-24</td>\n",
       "    </tr>\n",
       "    <tr>\n",
       "      <th>21</th>\n",
       "      <td>428</td>\n",
       "      <td>1.075</td>\n",
       "      <td>0.981</td>\n",
       "      <td>0.00138</td>\n",
       "      <td>-26.6</td>\n",
       "      <td>0.062150</td>\n",
       "      <td>9.943925e-24</td>\n",
       "    </tr>\n",
       "    <tr>\n",
       "      <th>22</th>\n",
       "      <td>428</td>\n",
       "      <td>1.075</td>\n",
       "      <td>1.151</td>\n",
       "      <td>-0.00121</td>\n",
       "      <td>23.3</td>\n",
       "      <td>0.054439</td>\n",
       "      <td>8.710280e-24</td>\n",
       "    </tr>\n",
       "    <tr>\n",
       "      <th>23</th>\n",
       "      <td>455</td>\n",
       "      <td>1.075</td>\n",
       "      <td>0.974</td>\n",
       "      <td>0.00148</td>\n",
       "      <td>-28.6</td>\n",
       "      <td>0.062857</td>\n",
       "      <td>1.005714e-23</td>\n",
       "    </tr>\n",
       "    <tr>\n",
       "      <th>24</th>\n",
       "      <td>455</td>\n",
       "      <td>1.075</td>\n",
       "      <td>1.156</td>\n",
       "      <td>-0.00129</td>\n",
       "      <td>24.8</td>\n",
       "      <td>0.054505</td>\n",
       "      <td>8.720879e-24</td>\n",
       "    </tr>\n",
       "    <tr>\n",
       "      <th>25</th>\n",
       "      <td>474</td>\n",
       "      <td>1.075</td>\n",
       "      <td>0.966</td>\n",
       "      <td>0.00159</td>\n",
       "      <td>-30.6</td>\n",
       "      <td>0.064557</td>\n",
       "      <td>1.032911e-23</td>\n",
       "    </tr>\n",
       "    <tr>\n",
       "      <th>26</th>\n",
       "      <td>474</td>\n",
       "      <td>1.075</td>\n",
       "      <td>1.159</td>\n",
       "      <td>-0.00134</td>\n",
       "      <td>25.8</td>\n",
       "      <td>0.054430</td>\n",
       "      <td>8.708861e-24</td>\n",
       "    </tr>\n",
       "    <tr>\n",
       "      <th>27</th>\n",
       "      <td>494</td>\n",
       "      <td>1.075</td>\n",
       "      <td>0.964</td>\n",
       "      <td>0.00162</td>\n",
       "      <td>-31.3</td>\n",
       "      <td>0.063360</td>\n",
       "      <td>1.013765e-23</td>\n",
       "    </tr>\n",
       "    <tr>\n",
       "      <th>28</th>\n",
       "      <td>494</td>\n",
       "      <td>1.075</td>\n",
       "      <td>1.161</td>\n",
       "      <td>-0.00138</td>\n",
       "      <td>26.6</td>\n",
       "      <td>0.053846</td>\n",
       "      <td>8.615385e-24</td>\n",
       "    </tr>\n",
       "    <tr>\n",
       "      <th>29</th>\n",
       "      <td>506</td>\n",
       "      <td>1.075</td>\n",
       "      <td>0.962</td>\n",
       "      <td>0.00165</td>\n",
       "      <td>-31.8</td>\n",
       "      <td>0.062846</td>\n",
       "      <td>1.005534e-23</td>\n",
       "    </tr>\n",
       "    <tr>\n",
       "      <th>30</th>\n",
       "      <td>506</td>\n",
       "      <td>1.075</td>\n",
       "      <td>1.165</td>\n",
       "      <td>-0.00145</td>\n",
       "      <td>27.9</td>\n",
       "      <td>0.055138</td>\n",
       "      <td>8.822134e-24</td>\n",
       "    </tr>\n",
       "    <tr>\n",
       "      <th>31</th>\n",
       "      <td>521</td>\n",
       "      <td>1.075</td>\n",
       "      <td>0.957</td>\n",
       "      <td>0.00171</td>\n",
       "      <td>-33.0</td>\n",
       "      <td>0.063340</td>\n",
       "      <td>1.013436e-23</td>\n",
       "    </tr>\n",
       "    <tr>\n",
       "      <th>32</th>\n",
       "      <td>521</td>\n",
       "      <td>1.075</td>\n",
       "      <td>1.165</td>\n",
       "      <td>-0.00144</td>\n",
       "      <td>27.7</td>\n",
       "      <td>0.053167</td>\n",
       "      <td>8.506718e-24</td>\n",
       "    </tr>\n",
       "    <tr>\n",
       "      <th>33</th>\n",
       "      <td>534</td>\n",
       "      <td>1.075</td>\n",
       "      <td>0.952</td>\n",
       "      <td>0.00178</td>\n",
       "      <td>-34.3</td>\n",
       "      <td>0.064232</td>\n",
       "      <td>1.027715e-23</td>\n",
       "    </tr>\n",
       "    <tr>\n",
       "      <th>34</th>\n",
       "      <td>534</td>\n",
       "      <td>1.075</td>\n",
       "      <td>1.169</td>\n",
       "      <td>-0.00150</td>\n",
       "      <td>28.9</td>\n",
       "      <td>0.054120</td>\n",
       "      <td>8.659176e-24</td>\n",
       "    </tr>\n",
       "    <tr>\n",
       "      <th>35</th>\n",
       "      <td>546</td>\n",
       "      <td>1.075</td>\n",
       "      <td>0.951</td>\n",
       "      <td>0.00179</td>\n",
       "      <td>-34.5</td>\n",
       "      <td>0.063187</td>\n",
       "      <td>1.010989e-23</td>\n",
       "    </tr>\n",
       "    <tr>\n",
       "      <th>36</th>\n",
       "      <td>546</td>\n",
       "      <td>1.075</td>\n",
       "      <td>1.170</td>\n",
       "      <td>-0.00152</td>\n",
       "      <td>29.3</td>\n",
       "      <td>0.053663</td>\n",
       "      <td>8.586081e-24</td>\n",
       "    </tr>\n",
       "  </tbody>\n",
       "</table>\n",
       "</div>"
      ],
      "text/plain": [
       "    B / mT  a1 / °  a2 / °  &D&l/&l / %  DE / µeV  deltaE/B  Bohr magneton\n",
       "0        6   1.075   1.067      0.00012      -2.3  0.383333   6.133333e-23\n",
       "1       51   1.075   1.084     -0.00014       2.8  0.054902   8.784314e-24\n",
       "2       51   1.075   1.053      0.00033      -6.4  0.125490   2.007843e-23\n",
       "3       89   1.075   1.087     -0.00019       3.7  0.041573   6.651685e-24\n",
       "4       89   1.075   1.056      0.00029      -5.6  0.062921   1.006742e-23\n",
       "5      131   1.075   1.043      0.00048      -9.3  0.070992   1.135878e-23\n",
       "6      131   1.075   1.095     -0.00031       6.0  0.045802   7.328244e-24\n",
       "7      170   1.075   1.039      0.00055     -10.6  0.062353   9.976471e-24\n",
       "8      170   1.075   1.108     -0.00051       9.9  0.058235   9.317647e-24\n",
       "9      210   1.075   1.030      0.00067     -12.9  0.061429   9.828571e-24\n",
       "10     210   1.075   1.110     -0.00054      10.4  0.049524   7.923810e-24\n",
       "11     246   1.075   1.020      0.00082     -15.8  0.064228   1.027642e-23\n",
       "12     246   1.075   1.119     -0.00068      13.1  0.053252   8.520325e-24\n",
       "13     288   1.075   1.012      0.00093     -18.0  0.062500   1.000000e-23\n",
       "14     288   1.075   1.126     -0.00080      15.5  0.053819   8.611111e-24\n",
       "15     329   1.075   1.002      0.00109     -20.9  0.063526   1.016413e-23\n",
       "16     329   1.075   1.133     -0.00091      17.6  0.053495   8.559271e-24\n",
       "17     361   1.075   0.993      0.00122     -23.4  0.064820   1.037119e-23\n",
       "18     361   1.075   1.138     -0.00100      19.2  0.053186   8.509695e-24\n",
       "19     397   1.075   0.986      0.00131     -25.2  0.063476   1.015617e-23\n",
       "20     397   1.075   1.146     -0.00112      21.6  0.054408   8.705290e-24\n",
       "21     428   1.075   0.981      0.00138     -26.6  0.062150   9.943925e-24\n",
       "22     428   1.075   1.151     -0.00121      23.3  0.054439   8.710280e-24\n",
       "23     455   1.075   0.974      0.00148     -28.6  0.062857   1.005714e-23\n",
       "24     455   1.075   1.156     -0.00129      24.8  0.054505   8.720879e-24\n",
       "25     474   1.075   0.966      0.00159     -30.6  0.064557   1.032911e-23\n",
       "26     474   1.075   1.159     -0.00134      25.8  0.054430   8.708861e-24\n",
       "27     494   1.075   0.964      0.00162     -31.3  0.063360   1.013765e-23\n",
       "28     494   1.075   1.161     -0.00138      26.6  0.053846   8.615385e-24\n",
       "29     506   1.075   0.962      0.00165     -31.8  0.062846   1.005534e-23\n",
       "30     506   1.075   1.165     -0.00145      27.9  0.055138   8.822134e-24\n",
       "31     521   1.075   0.957      0.00171     -33.0  0.063340   1.013436e-23\n",
       "32     521   1.075   1.165     -0.00144      27.7  0.053167   8.506718e-24\n",
       "33     534   1.075   0.952      0.00178     -34.3  0.064232   1.027715e-23\n",
       "34     534   1.075   1.169     -0.00150      28.9  0.054120   8.659176e-24\n",
       "35     546   1.075   0.951      0.00179     -34.5  0.063187   1.010989e-23\n",
       "36     546   1.075   1.170     -0.00152      29.3  0.053663   8.586081e-24"
      ]
     },
     "execution_count": 137,
     "metadata": {},
     "output_type": "execute_result"
    }
   ],
   "source": [
    "data"
   ]
  },
  {
   "cell_type": "code",
   "execution_count": 138,
   "id": "1c3d0b74",
   "metadata": {},
   "outputs": [],
   "source": [
    "negative_DE = []\n",
    "negative_B = []\n",
    "negative_bm = []\n",
    "\n",
    "positive_DE = []\n",
    "positive_B = []\n",
    "positive_bm = []\n",
    "for i in range(0, len(data)):\n",
    "    if data.iloc[i][4] < 0:\n",
    "        negative_DE.append(data.iloc[i][4])\n",
    "        negative_B.append(data.iloc[i][0])\n",
    "        negative_bm.append(data.iloc[i][6])\n",
    "    if data.iloc[i][4] > 0:\n",
    "        positive_DE.append(data.iloc[i][4])\n",
    "        positive_B.append(data.iloc[i][0])\n",
    "        positive_bm.append(data.iloc[i][6])"
   ]
  },
  {
   "cell_type": "code",
   "execution_count": 206,
   "id": "aa7c213b",
   "metadata": {},
   "outputs": [
    {
     "name": "stdout",
     "output_type": "stream",
     "text": [
      "8.633477347519638e-24\n",
      "9.339882320239696e-26\n",
      "1.0131504345039328e-23\n",
      "1.4552356326663302e-25\n"
     ]
    }
   ],
   "source": [
    "print(np.mean(positive_bm[5::]))\n",
    "print(np.std(positive_bm[5::]))\n",
    "print(np.mean(negative_bm[5::]))\n",
    "print(np.std(negative_bm[5::]))"
   ]
  },
  {
   "cell_type": "code",
   "execution_count": 140,
   "id": "4a1f1e51",
   "metadata": {},
   "outputs": [],
   "source": [
    "positive_fit = 10E2 *(np.mean(positive_bm)/(1.6E-19)) * np.linspace(0,600, 2)\n",
    "negative_fit = -10E2 *(np.mean(negative_bm[2::])/(1.6E-19)) * np.linspace(0,600, 2)"
   ]
  },
  {
   "cell_type": "code",
   "execution_count": 141,
   "id": "7470a044",
   "metadata": {},
   "outputs": [
    {
     "data": {
      "image/png": "[encoded data removed]",
      "text/plain": [
       "<Figure size 432x288 with 1 Axes>"
      ]
     },
     "metadata": {
      "needs_background": "light"
     },
     "output_type": "display_data"
    }
   ],
   "source": [
    "plt.errorbar(negative_B, negative_DE, fmt=\"o\", color=\"black\", label=\"$+ \\sigma$\")\n",
    "plt.plot(np.linspace(0,600, 2), negative_fit, \"--r\", label=\"-- fit\")\n",
    "plt.xlabel('B / mT')\n",
    "plt.ylabel('$\\Delta$ E / eV')\n",
    "plt.legend(loc=\"upper right\")\n",
    "plt.title(\"$\\Delta E$ on B (-$\\sigma$)\")\n",
    "plt.savefig(\"neg_sigma.png\")"
   ]
  },
  {
   "cell_type": "code",
   "execution_count": 142,
   "id": "99db150f",
   "metadata": {},
   "outputs": [
    {
     "data": {
      "image/png": "[encoded data removed]",
      "text/plain": [
       "<Figure size 432x288 with 1 Axes>"
      ]
     },
     "metadata": {
      "needs_background": "light"
     },
     "output_type": "display_data"
    }
   ],
   "source": [
    "plt.errorbar(positive_B, positive_DE, fmt=\"o\", color=\"black\", label=\"$+\\sigma$\") # 6 as 0.1A=6mT, \n",
    "plt.xlabel('B / mT')\n",
    "plt.plot(np.linspace(0,600, 2), positive_fit,\"--r\", label=\"-- fit\")\n",
    "plt.ylabel('$\\Delta$ E / eV')\n",
    "plt.legend(loc=\"lower right\")\n",
    "plt.title(\"$\\Delta E$ on B (+$\\sigma$)\")\n",
    "plt.savefig(\"pos_sigma.png\")"
   ]
  },
  {
   "cell_type": "code",
   "execution_count": 199,
   "id": "bbac9e79",
   "metadata": {},
   "outputs": [
    {
     "name": "stdout",
     "output_type": "stream",
     "text": [
      "9.310401219160757e-24\n"
     ]
    }
   ],
   "source": [
    "print(np.mean(data['Bohr magneton'][6::]))"
   ]
  },
  {
   "cell_type": "code",
   "execution_count": 200,
   "id": "63fc9c31",
   "metadata": {},
   "outputs": [
    {
     "name": "stdout",
     "output_type": "stream",
     "text": [
      "8.623155071413669e-24\n"
     ]
    }
   ],
   "source": [
    "print(np.std(data['Bohr magneton']))"
   ]
  },
  {
   "cell_type": "code",
   "execution_count": 201,
   "id": "4d5ff3d0",
   "metadata": {},
   "outputs": [
    {
     "name": "stdout",
     "output_type": "stream",
     "text": [
      "9.310401219160757e-24\n"
     ]
    }
   ],
   "source": [
    "print(np.mean(data['Bohr magneton'][6::]))"
   ]
  },
  {
   "cell_type": "code",
   "execution_count": 202,
   "id": "795ad920",
   "metadata": {},
   "outputs": [
    {
     "name": "stdout",
     "output_type": "stream",
     "text": [
      "8.4435599405565e-25\n"
     ]
    }
   ],
   "source": [
    "print(np.std(data['Bohr magneton'][6::]))"
   ]
  },
  {
   "cell_type": "code",
   "execution_count": 147,
   "id": "048eb6c7",
   "metadata": {},
   "outputs": [],
   "source": [
    "exemplar_pos_sigma = pd.read_excel(\"zeeman_exemplar.xlsx\", sheet_name=\"+sigma\")"
   ]
  },
  {
   "cell_type": "code",
   "execution_count": 148,
   "id": "b75fbf2f",
   "metadata": {},
   "outputs": [],
   "source": [
    "exemplar_neg_sigma = pd.read_excel(\"zeeman_exemplar.xlsx\", sheet_name=\"-sigma\")"
   ]
  },
  {
   "cell_type": "code",
   "execution_count": 149,
   "id": "165300ab",
   "metadata": {},
   "outputs": [],
   "source": [
    "exemplar_pos_sigma['bohr_magneton'] = (exemplar_pos_sigma['∆E/μeV'] * 1.6E-19 * 10E-6)/(exemplar_pos_sigma['B/mT'] * 10E-3)"
   ]
  },
  {
   "cell_type": "code",
   "execution_count": 150,
   "id": "22558326",
   "metadata": {},
   "outputs": [
    {
     "data": {
      "text/plain": [
       "15"
      ]
     },
     "execution_count": 150,
     "metadata": {},
     "output_type": "execute_result"
    }
   ],
   "source": [
    "len(positive_bm[3::])"
   ]
  },
  {
   "cell_type": "code",
   "execution_count": 151,
   "id": "8881a86f",
   "metadata": {},
   "outputs": [
    {
     "data": {
      "text/plain": [
       "15"
      ]
     },
     "execution_count": 151,
     "metadata": {},
     "output_type": "execute_result"
    }
   ],
   "source": [
    "len(negative_bm[4::])"
   ]
  },
  {
   "cell_type": "code",
   "execution_count": 152,
   "id": "171990c2",
   "metadata": {
    "scrolled": true
   },
   "outputs": [
    {
     "ename": "SyntaxError",
     "evalue": "invalid syntax (<ipython-input-152-dda92afee8a3>, line 4)",
     "output_type": "error",
     "traceback": [
      "\u001b[1;36m  File \u001b[1;32m\"<ipython-input-152-dda92afee8a3>\"\u001b[1;36m, line \u001b[1;32m4\u001b[0m\n\u001b[1;33m    for i in range(15):s2.4\u001b[0m\n\u001b[1;37m                         ^\u001b[0m\n\u001b[1;31mSyntaxError\u001b[0m\u001b[1;31m:\u001b[0m invalid syntax\n"
     ]
    }
   ],
   "source": [
    "bm = []\n",
    "bm_error = []\n",
    "average_deltaE = []\n",
    "for i in range(15):\n",
    "    bm.append((negative_bm[i + 4] +  positive_bm[i + 3])/2)\n",
    "    bm_error.append(statistics.stdev([negative_bm[i + 4], positive_bm[i + 3]]))"
   ]
  },
  {
   "cell_type": "code",
   "execution_count": 153,
   "id": "cd9e664c",
   "metadata": {
    "scrolled": true
   },
   "outputs": [
    {
     "data": {
      "image/png": "[encoded data removed]",
      "text/plain": [
       "<Figure size 720x360 with 1 Axes>"
      ]
     },
     "metadata": {
      "needs_background": "light"
     },
     "output_type": "display_data"
    }
   ],
   "source": [
    "plt.figure(figsize = (10,5))\n",
    "plt.errorbar([i for i in range(len(bm))], bm, yerr=bm_error, fmt=\"x\", color=\"black\", capsize=3, label=\"$\\mu_B$\")\n",
    "plt.axhline(y=9.27E-24, color=\"red\", ls=\"--\", label=\"$\\mu_B$ (Literature)\")\n",
    "plt.axhline(y=9.44E-24, color=\"blue\", ls=\"--\", label=\"$\\mu_B$ (Weighted mean)\")\n",
    "plt.legend(loc=\"lower right\")\n",
    "plt.ylabel(\"$\\mu_B$ / $JT^{-1}$\")\n",
    "plt.title(\"Independent measurements of $\\mu_B$\")\n",
    "plt.savefig(\"bohr_magneton.png\")"
   ]
  },
  {
   "cell_type": "code",
   "execution_count": 154,
   "id": "e6dfa98f",
   "metadata": {},
   "outputs": [],
   "source": [
    "weights = [1/(i**2) for i in bm_error]"
   ]
  },
  {
   "cell_type": "code",
   "execution_count": 155,
   "id": "c8667a4f",
   "metadata": {
    "scrolled": true
   },
   "outputs": [
    {
     "name": "stdout",
     "output_type": "stream",
     "text": [
      "9.443423367972574e-24\n"
     ]
    }
   ],
   "source": [
    "print(np.average(bm, weights=weights))"
   ]
  },
  {
   "cell_type": "code",
   "execution_count": 156,
   "id": "68752033",
   "metadata": {},
   "outputs": [],
   "source": [
    "import math"
   ]
  },
  {
   "cell_type": "code",
   "execution_count": 157,
   "id": "71f7320d",
   "metadata": {},
   "outputs": [
    {
     "name": "stdout",
     "output_type": "stream",
     "text": [
      "2.4323292678235186e-25\n"
     ]
    }
   ],
   "source": [
    "print(math.sqrt(1/np.sum(weights)))"
   ]
  },
  {
   "cell_type": "code",
   "execution_count": 167,
   "id": "d870cb1e",
   "metadata": {},
   "outputs": [],
   "source": [
    "residuals = []\n",
    "for i in range(0, len(negative_bm) - 1):\n",
    "    residuals.append((negative_bm[i+1] -  positive_bm[i]))\n",
    "    #bm_error.append(statistics.stdev([negative_bm[i + 4], positive_bm[i + 3]]))"
   ]
  },
  {
   "cell_type": "code",
   "execution_count": 172,
   "id": "e1a81253",
   "metadata": {},
   "outputs": [
    {
     "data": {
      "text/plain": [
       "<matplotlib.collections.PathCollection at 0x1d15e547430>"
      ]
     },
     "execution_count": 172,
     "metadata": {},
     "output_type": "execute_result"
    },
    {
     "data": {
      "image/png": "[encoded data removed]",
      "text/plain": [
       "<Figure size 432x288 with 1 Axes>"
      ]
     },
     "metadata": {
      "needs_background": "light"
     },
     "output_type": "display_data"
    }
   ],
   "source": [
    "plt.scatter([i for i in range(len(negative_bm) - 1)], residuals)"
   ]
  },
  {
   "cell_type": "code",
   "execution_count": 198,
   "id": "2532cb72",
   "metadata": {},
   "outputs": [
    {
     "data": {
      "text/plain": [
       "<matplotlib.lines.Line2D at 0x1d160ddfb50>"
      ]
     },
     "execution_count": 198,
     "metadata": {},
     "output_type": "execute_result"
    },
    {
     "data": {
      "image/png": "[encoded data removed]",
      "text/plain": [
       "<Figure size 432x288 with 1 Axes>"
      ]
     },
     "metadata": {
      "needs_background": "light"
     },
     "output_type": "display_data"
    }
   ],
   "source": [
    "plt.scatter(positive_B[2::], np.array(residuals[2::]))\n",
    "plt.title(\"Residual of $\\sigma^{+/-} $ against B field\")\n",
    "plt.axhline(y=0.15E-23, ls=\"--\")"
   ]
  },
  {
   "cell_type": "code",
   "execution_count": 207,
   "id": "5863c729",
   "metadata": {},
   "outputs": [
    {
     "name": "stdout",
     "output_type": "stream",
     "text": [
      "2.0129835889281742e-25\n"
     ]
    }
   ],
   "source": [
    "print(np.std(residuals[4::]))"
   ]
  },
  {
   "cell_type": "code",
   "execution_count": 211,
   "id": "0bb45a58",
   "metadata": {},
   "outputs": [
    {
     "name": "stdout",
     "output_type": "stream",
     "text": [
      "[-0.7 -2.5 -2.7 -2.5 -3.3 -4.2 -3.6 -3.3 -3.8 -4.8 -4.7 -3.9 -5.3 -5.4\n",
      " -5.2]\n"
     ]
    }
   ],
   "source": [
    "print(np.array(negative_DE[4::]) + np.array(positive_DE[3::]))"
   ]
  },
  {
   "cell_type": "code",
   "execution_count": 177,
   "id": "12d9303e",
   "metadata": {},
   "outputs": [],
   "source": [
    "from sklearn.linear_model import LinearRegression"
   ]
  },
  {
   "cell_type": "code",
   "execution_count": 184,
   "id": "4fd9fdc0",
   "metadata": {},
   "outputs": [],
   "source": [
    "reg = LinearRegression().fit(np.array(positive_B[4::]).reshape(-1,1), np.array(residuals[4::]).reshape(-1,1))"
   ]
  },
  {
   "cell_type": "code",
   "execution_count": 185,
   "id": "06b8a0ff",
   "metadata": {},
   "outputs": [
    {
     "data": {
      "text/plain": [
       "array([[-8.36369257e-28]])"
      ]
     },
     "execution_count": 185,
     "metadata": {},
     "output_type": "execute_result"
    }
   ],
   "source": [
    "reg.coef_"
   ]
  },
  {
   "cell_type": "code",
   "execution_count": null,
   "id": "55bf04e3",
   "metadata": {},
   "outputs": [],
   "source": []
  }
 ],
 "metadata": {
  "kernelspec": {
   "display_name": "Python 3",
   "language": "python",
   "name": "python3"
  },
  "language_info": {
   "codemirror_mode": {
    "name": "ipython",
    "version": 3
   },
   "file_extension": ".py",
   "mimetype": "text/x-python",
   "name": "python",
   "nbconvert_exporter": "python",
   "pygments_lexer": "ipython3",
   "version": "3.8.8"
  }
 },
 "nbformat": 4,
 "nbformat_minor": 5
}
