{
 "cells": [
  {
   "cell_type": "markdown",
   "id": "c03b8493",
   "metadata": {},
   "source": [
    "## Data preparation"
   ]
  },
  {
   "cell_type": "code",
   "execution_count": 1,
   "id": "f2d62305",
   "metadata": {},
   "outputs": [],
   "source": [
    "supernovae = ['SN2016fqr', 'SN2016fca', 'SN2016eja', 'SN2016ege','SN2016flu','SN2016blk',\n",
    "             'SN2016fim', 'SN2016fib', 'SN2016fes', 'SN2016ezh', 'SN2016eyn', 'SN2016dln',\n",
    "              'SN2016cvm', 'SN2016cvj', 'SN2016csg', 'SN2016ccs', 'SN2016afj', 'SN2016zr',\n",
    "              'SN2015bl', 'SN2016ww'\n",
    "             ]"
   ]
  },
  {
   "cell_type": "code",
   "execution_count": 2,
   "id": "b631356d",
   "metadata": {},
   "outputs": [],
   "source": [
    "import requests"
   ]
  },
  {
   "cell_type": "code",
   "execution_count": 3,
   "id": "2201fbc4",
   "metadata": {},
   "outputs": [],
   "source": [
    "type_1a = []\n",
    "for supernova in supernovae:\n",
    "    resp = requests.get('https://api.astrocats.space/{}'.format(supernova)).json()\n",
    "    if resp[supernova]['claimedtype'][0]['value'] == 'Ia':\n",
    "        type_1a.append({'name': supernova, \n",
    "                        'type': resp[supernova]['claimedtype'][0]['value'],\n",
    "                        'redshift':float(resp[supernova]['redshift'][0]['value'])\n",
    "                       })\n",
    "    "
   ]
  },
  {
   "cell_type": "code",
   "execution_count": 4,
   "id": "e193e828",
   "metadata": {},
   "outputs": [],
   "source": [
    "from bs4 import BeautifulSoup"
   ]
  },
  {
   "cell_type": "code",
   "execution_count": 5,
   "id": "f2536afc",
   "metadata": {},
   "outputs": [],
   "source": [
    "for supernova in type_1a:\n",
    "    with open('./ExpandingUniverseLab/ExpandingUniverseLab/sndata/{}.html'.format(supernova['name'])) as f:\n",
    "        soup = BeautifulSoup(f.read())\n",
    "        peak_mag = soup.find_all('p')[6].contents[0]\n",
    "        peak_mag = peak_mag.split('Peak mag : ')[1].split(' &pm; ')\n",
    "        supernova['peak_mag'] = float(peak_mag[0])\n",
    "        supernova['mag_error'] = float(peak_mag[1].strip())"
   ]
  },
  {
   "cell_type": "code",
   "execution_count": 19,
   "id": "b4c31412",
   "metadata": {},
   "outputs": [],
   "source": [
    "M = 19.6\n",
    "for supernova in type_1a:\n",
    "    supernova['distance'] = 10**((float(supernova['peak_mag']) + M + 5)/(5))"
   ]
  },
  {
   "cell_type": "code",
   "execution_count": 20,
   "id": "de6e8082",
   "metadata": {},
   "outputs": [],
   "source": [
    "from matplotlib import pyplot as plt"
   ]
  },
  {
   "cell_type": "code",
   "execution_count": 21,
   "id": "1323bca9",
   "metadata": {},
   "outputs": [],
   "source": [
    "import pandas as pd\n",
    "df = pd.DataFrame.from_dict(type_1a)"
   ]
  },
  {
   "cell_type": "code",
   "execution_count": 24,
   "id": "2482e407",
   "metadata": {},
   "outputs": [],
   "source": [
    "import numpy as np"
   ]
  },
  {
   "cell_type": "code",
   "execution_count": 22,
   "id": "cabc6661",
   "metadata": {},
   "outputs": [
    {
     "name": "stdout",
     "output_type": "stream",
     "text": [
      "         name type  redshift  peak_mag  mag_error      distance\n",
      "0   SN2016fca   Ia   0.02700     15.73       0.03  1.164126e+08\n",
      "1   SN2016eja   Ia   0.02400     15.97       0.05  1.300170e+08\n",
      "2   SN2016flu   Ia   0.03400     16.31       0.06  1.520548e+08\n",
      "3   SN2016blk   Ia   0.02997     15.96       0.03  1.294196e+08\n",
      "4   SN2016fim   Ia   0.08800     18.43       0.07  4.036454e+08\n",
      "5   SN2016fib   Ia   0.08060     18.14       0.07  3.531832e+08\n",
      "6   SN2016fes   Ia   0.05200     17.11       0.06  2.197860e+08\n",
      "7   SN2016eyn   Ia   0.06500     17.70       0.08  2.884032e+08\n",
      "8   SN2016cvm   Ia   0.06900     17.80       0.05  3.019952e+08\n",
      "9   SN2016cvj   Ia   0.05800     17.44       0.04  2.558586e+08\n",
      "10  SN2016csg   Ia   0.09200     18.43       0.07  4.036454e+08\n",
      "11  SN2016ccs   Ia   0.06200     17.65       0.06  2.818383e+08\n",
      "12   SN2015bl   Ia   0.09300     18.62       0.09  4.405549e+08\n",
      "13   SN2016ww   Ia   0.09100     18.52       0.07  4.207266e+08\n"
     ]
    }
   ],
   "source": [
    "print(df)"
   ]
  },
  {
   "cell_type": "code",
   "execution_count": 23,
   "id": "b51d478f",
   "metadata": {},
   "outputs": [],
   "source": [
    "df['redshift_error'] = 0.005"
   ]
  },
  {
   "cell_type": "code",
   "execution_count": 161,
   "id": "0626a725",
   "metadata": {},
   "outputs": [],
   "source": [
    "df['distance_error'] = (10**((df['peak_mag'] + df['mag_error'] + M + 5)/(5)) - 10**((df['peak_mag'] - df['mag_error'] + M + 5)/(5)) )/2"
   ]
  },
  {
   "cell_type": "code",
   "execution_count": 162,
   "id": "c1742aa6",
   "metadata": {},
   "outputs": [
    {
     "data": {
      "text/plain": [
       "0     1.608351e+06\n",
       "1     2.994016e+06\n",
       "2     4.201963e+06\n",
       "3     1.788055e+06\n",
       "4     1.301424e+07\n",
       "5     1.138725e+07\n",
       "6     6.073684e+06\n",
       "7     1.062757e+07\n",
       "8     6.954310e+06\n",
       "9     4.713356e+06\n",
       "10    1.301424e+07\n",
       "11    7.788471e+06\n",
       "12    1.826470e+07\n",
       "13    1.356497e+07\n",
       "Name: distance_error, dtype: float64"
      ]
     },
     "execution_count": 162,
     "metadata": {},
     "output_type": "execute_result"
    }
   ],
   "source": [
    "df['distance_error']"
   ]
  },
  {
   "cell_type": "markdown",
   "id": "d0c97008",
   "metadata": {},
   "source": [
    "## Task 4"
   ]
  },
  {
   "cell_type": "markdown",
   "id": "4f0f21d3",
   "metadata": {},
   "source": [
    "### 4.1 Supernovae distance determination"
   ]
  },
  {
   "cell_type": "code",
   "execution_count": 163,
   "id": "eb2d5bed",
   "metadata": {},
   "outputs": [],
   "source": [
    "from sklearn.linear_model import LinearRegression"
   ]
  },
  {
   "cell_type": "code",
   "execution_count": 164,
   "id": "0985389a",
   "metadata": {},
   "outputs": [
    {
     "data": {
      "text/plain": [
       "LinearRegression()"
      ]
     },
     "execution_count": 164,
     "metadata": {},
     "output_type": "execute_result"
    }
   ],
   "source": [
    "model = LinearRegression()\n",
    "rshift = np.array(df['redshift']).reshape(-1,1)\n",
    "model.fit(rshift, df['distance'])"
   ]
  },
  {
   "cell_type": "code",
   "execution_count": 165,
   "id": "74e55157",
   "metadata": {},
   "outputs": [
    {
     "name": "stdout",
     "output_type": "stream",
     "text": [
      "0.990145127464534\n"
     ]
    },
    {
     "data": {
      "text/plain": [
       "array([4.54226263e+09])"
      ]
     },
     "execution_count": 165,
     "metadata": {},
     "output_type": "execute_result"
    }
   ],
   "source": [
    "print(model.score(rshift, df['distance']))\n",
    "model.coef_"
   ]
  },
  {
   "cell_type": "markdown",
   "id": "7710a009",
   "metadata": {},
   "source": [
    "### => coresponds to 66.07 Hubble constant , 6.604637918e-5"
   ]
  },
  {
   "cell_type": "code",
   "execution_count": 166,
   "id": "a2a384e5",
   "metadata": {},
   "outputs": [
    {
     "data": {
      "text/plain": [
       "LinearRegression()"
      ]
     },
     "execution_count": 166,
     "metadata": {},
     "output_type": "execute_result"
    }
   ],
   "source": [
    "max_fit = LinearRegression()\n",
    "rshift = np.array(df['redshift']).reshape(-1,1)\n",
    "max_fit.fit(rshift, df['distance'] + df['distance_error'])"
   ]
  },
  {
   "cell_type": "code",
   "execution_count": 167,
   "id": "b02d85a2",
   "metadata": {},
   "outputs": [
    {
     "name": "stdout",
     "output_type": "stream",
     "text": [
      "0.9829395336314318\n"
     ]
    },
    {
     "data": {
      "text/plain": [
       "array([4.7304454e+09])"
      ]
     },
     "execution_count": 167,
     "metadata": {},
     "output_type": "execute_result"
    }
   ],
   "source": [
    "print(max_fit.score(rshift, df['distance']))\n",
    "\n",
    "max_fit.coef_"
   ]
  },
  {
   "cell_type": "markdown",
   "id": "4f58bb29",
   "metadata": {},
   "source": [
    "### => corresponds to 6.57373355×10−5"
   ]
  },
  {
   "cell_type": "code",
   "execution_count": 168,
   "id": "c264f9a0",
   "metadata": {},
   "outputs": [
    {
     "data": {
      "text/plain": [
       "LinearRegression()"
      ]
     },
     "execution_count": 168,
     "metadata": {},
     "output_type": "execute_result"
    }
   ],
   "source": [
    "min_fit = LinearRegression()\n",
    "rshift = np.array(df['redshift'] - df['redshift_error']).reshape(-1,1)\n",
    "min_fit.fit(rshift, df['distance'] - df['distance_error'])"
   ]
  },
  {
   "cell_type": "code",
   "execution_count": 169,
   "id": "15b62032",
   "metadata": {},
   "outputs": [
    {
     "name": "stdout",
     "output_type": "stream",
     "text": [
      "0.9829395336314319\n"
     ]
    },
    {
     "data": {
      "text/plain": [
       "array([4.35407985e+09])"
      ]
     },
     "execution_count": 169,
     "metadata": {},
     "output_type": "execute_result"
    }
   ],
   "source": [
    "print(min_fit.score(rshift, df['distance']))\n",
    "\n",
    "min_fit.coef_"
   ]
  },
  {
   "cell_type": "markdown",
   "id": "acf995b5",
   "metadata": {},
   "source": [
    "### => corresponds to 6.63583425×10−5"
   ]
  },
  {
   "cell_type": "markdown",
   "id": "d5709578",
   "metadata": {},
   "source": [
    "### => max - min = 0.0621007E-5"
   ]
  },
  {
   "cell_type": "code",
   "execution_count": 170,
   "id": "2f5772ad",
   "metadata": {},
   "outputs": [],
   "source": [
    "hubble_straight_model = np.linspace(0.02, 0.1, 100)\n",
    "predicted_distance = model.predict(hubble_straight_model[:, np.newaxis])"
   ]
  },
  {
   "cell_type": "code",
   "execution_count": 175,
   "id": "26369b44",
   "metadata": {},
   "outputs": [
    {
     "data": {
      "text/plain": [
       "Text(0.5, 1.0, 'Measured redshift for Type Ia supernovae')"
      ]
     },
     "execution_count": 175,
     "metadata": {},
     "output_type": "execute_result"
    },
    {
     "data": {
      "image/png": "[encoded data removed]",
      "text/plain": [
       "<Figure size 432x288 with 1 Axes>"
      ]
     },
     "metadata": {
      "needs_background": "light"
     },
     "output_type": "display_data"
    }
   ],
   "source": [
    "ax = plt.axes()\n",
    "plt.errorbar(df['redshift'], df['distance'] * 1E-6,xerr=df['redshift_error'] * 0.5 , yerr=df['distance_error'] * 1E-6,fmt='o', color=\"black\", label=\"Type Ia supernovae\")\n",
    "ax.plot(hubble_straight_model, predicted_distance * 1E-6, color=\"red\", label=\"\" )\n",
    "plt.xlabel('z')\n",
    "plt.ylabel('distance / MPc')\n",
    "plt.legend(loc='upper left')\n",
    "plt.title('Measured redshift for Type Ia supernovae')\n",
    "#plt.savefig('measured_redshift_type_1a.png')"
   ]
  },
  {
   "cell_type": "code",
   "execution_count": 39,
   "id": "b02d5c00",
   "metadata": {},
   "outputs": [],
   "source": [
    "def simple_hubble_equation(z, c, h):\n",
    "        return (c * z)/h # returns expected distance"
   ]
  },
  {
   "cell_type": "code",
   "execution_count": 40,
   "id": "06d84aa0",
   "metadata": {},
   "outputs": [],
   "source": [
    "def massless_hubble_equation(z, c, h):\n",
    "    return ((c*z/h)*(1 + (z/2)))"
   ]
  },
  {
   "cell_type": "code",
   "execution_count": 41,
   "id": "60b59264",
   "metadata": {},
   "outputs": [],
   "source": [
    "import math\n",
    "def mass_dominated_hubble_equation(z, c, h):\n",
    "    return ((2*c/h)*(1 + z - math.sqrt(1 + z)))"
   ]
  },
  {
   "cell_type": "markdown",
   "id": "70d425e7",
   "metadata": {},
   "source": [
    "### 4.2  Determining the best fit model and Hubble's constant"
   ]
  },
  {
   "cell_type": "code",
   "execution_count": 179,
   "id": "b8224db7",
   "metadata": {},
   "outputs": [
    {
     "name": "stdout",
     "output_type": "stream",
     "text": [
      "[0     687.008314\n",
      "1     198.250994\n",
      "2     100.651236\n",
      "3     555.855610\n",
      "4      10.492661\n",
      "5      13.705208\n",
      "6      48.174710\n",
      "7      15.734599\n",
      "8      36.746449\n",
      "9      79.995034\n",
      "10     10.492661\n",
      "11     29.296727\n",
      "12      5.327193\n",
      "13      9.657965\n",
      "Name: distance_error, dtype: float64, 0     687.008314\n",
      "1     198.250994\n",
      "2     100.651236\n",
      "3     555.855610\n",
      "4      10.492661\n",
      "5      13.705208\n",
      "6      48.174710\n",
      "7      15.734599\n",
      "8      36.746449\n",
      "9      79.995034\n",
      "10     10.492661\n",
      "11     29.296727\n",
      "12      5.327193\n",
      "13      9.657965\n",
      "Name: distance_error, dtype: float64, 0     687.008314\n",
      "1     198.250994\n",
      "2     100.651236\n",
      "3     555.855610\n",
      "4      10.492661\n",
      "5      13.705208\n",
      "6      48.174710\n",
      "7      15.734599\n",
      "8      36.746449\n",
      "9      79.995034\n",
      "10     10.492661\n",
      "11     29.296727\n",
      "12      5.327193\n",
      "13      9.657965\n",
      "Name: distance_error, dtype: float64, 0     687.008314\n",
      "1     198.250994\n",
      "2     100.651236\n",
      "3     555.855610\n",
      "4      10.492661\n",
      "5      13.705208\n",
      "6      48.174710\n",
      "7      15.734599\n",
      "8      36.746449\n",
      "9      79.995034\n",
      "10     10.492661\n",
      "11     29.296727\n",
      "12      5.327193\n",
      "13      9.657965\n",
      "Name: distance_error, dtype: float64, 0     687.008314\n",
      "1     198.250994\n",
      "2     100.651236\n",
      "3     555.855610\n",
      "4      10.492661\n",
      "5      13.705208\n",
      "6      48.174710\n",
      "7      15.734599\n",
      "8      36.746449\n",
      "9      79.995034\n",
      "10     10.492661\n",
      "11     29.296727\n",
      "12      5.327193\n",
      "13      9.657965\n",
      "Name: distance_error, dtype: float64, 0     687.008314\n",
      "1     198.250994\n",
      "2     100.651236\n",
      "3     555.855610\n",
      "4      10.492661\n",
      "5      13.705208\n",
      "6      48.174710\n",
      "7      15.734599\n",
      "8      36.746449\n",
      "9      79.995034\n",
      "10     10.492661\n",
      "11     29.296727\n",
      "12      5.327193\n",
      "13      9.657965\n",
      "Name: distance_error, dtype: float64, 0     687.008314\n",
      "1     198.250994\n",
      "2     100.651236\n",
      "3     555.855610\n",
      "4      10.492661\n",
      "5      13.705208\n",
      "6      48.174710\n",
      "7      15.734599\n",
      "8      36.746449\n",
      "9      79.995034\n",
      "10     10.492661\n",
      "11     29.296727\n",
      "12      5.327193\n",
      "13      9.657965\n",
      "Name: distance_error, dtype: float64, 0     687.008314\n",
      "1     198.250994\n",
      "2     100.651236\n",
      "3     555.855610\n",
      "4      10.492661\n",
      "5      13.705208\n",
      "6      48.174710\n",
      "7      15.734599\n",
      "8      36.746449\n",
      "9      79.995034\n",
      "10     10.492661\n",
      "11     29.296727\n",
      "12      5.327193\n",
      "13      9.657965\n",
      "Name: distance_error, dtype: float64, 0     687.008314\n",
      "1     198.250994\n",
      "2     100.651236\n",
      "3     555.855610\n",
      "4      10.492661\n",
      "5      13.705208\n",
      "6      48.174710\n",
      "7      15.734599\n",
      "8      36.746449\n",
      "9      79.995034\n",
      "10     10.492661\n",
      "11     29.296727\n",
      "12      5.327193\n",
      "13      9.657965\n",
      "Name: distance_error, dtype: float64, 0     687.008314\n",
      "1     198.250994\n",
      "2     100.651236\n",
      "3     555.855610\n",
      "4      10.492661\n",
      "5      13.705208\n",
      "6      48.174710\n",
      "7      15.734599\n",
      "8      36.746449\n",
      "9      79.995034\n",
      "10     10.492661\n",
      "11     29.296727\n",
      "12      5.327193\n",
      "13      9.657965\n",
      "Name: distance_error, dtype: float64, 0     687.008314\n",
      "1     198.250994\n",
      "2     100.651236\n",
      "3     555.855610\n",
      "4      10.492661\n",
      "5      13.705208\n",
      "6      48.174710\n",
      "7      15.734599\n",
      "8      36.746449\n",
      "9      79.995034\n",
      "10     10.492661\n",
      "11     29.296727\n",
      "12      5.327193\n",
      "13      9.657965\n",
      "Name: distance_error, dtype: float64, 0     687.008314\n",
      "1     198.250994\n",
      "2     100.651236\n",
      "3     555.855610\n",
      "4      10.492661\n",
      "5      13.705208\n",
      "6      48.174710\n",
      "7      15.734599\n",
      "8      36.746449\n",
      "9      79.995034\n",
      "10     10.492661\n",
      "11     29.296727\n",
      "12      5.327193\n",
      "13      9.657965\n",
      "Name: distance_error, dtype: float64, 0     687.008314\n",
      "1     198.250994\n",
      "2     100.651236\n",
      "3     555.855610\n",
      "4      10.492661\n",
      "5      13.705208\n",
      "6      48.174710\n",
      "7      15.734599\n",
      "8      36.746449\n",
      "9      79.995034\n",
      "10     10.492661\n",
      "11     29.296727\n",
      "12      5.327193\n",
      "13      9.657965\n",
      "Name: distance_error, dtype: float64, 0     687.008314\n",
      "1     198.250994\n",
      "2     100.651236\n",
      "3     555.855610\n",
      "4      10.492661\n",
      "5      13.705208\n",
      "6      48.174710\n",
      "7      15.734599\n",
      "8      36.746449\n",
      "9      79.995034\n",
      "10     10.492661\n",
      "11     29.296727\n",
      "12      5.327193\n",
      "13      9.657965\n",
      "Name: distance_error, dtype: float64, 0     687.008314\n",
      "1     198.250994\n",
      "2     100.651236\n",
      "3     555.855610\n",
      "4      10.492661\n",
      "5      13.705208\n",
      "6      48.174710\n",
      "7      15.734599\n",
      "8      36.746449\n",
      "9      79.995034\n",
      "10     10.492661\n",
      "11     29.296727\n",
      "12      5.327193\n",
      "13      9.657965\n",
      "Name: distance_error, dtype: float64, 0     687.008314\n",
      "1     198.250994\n",
      "2     100.651236\n",
      "3     555.855610\n",
      "4      10.492661\n",
      "5      13.705208\n",
      "6      48.174710\n",
      "7      15.734599\n",
      "8      36.746449\n",
      "9      79.995034\n",
      "10     10.492661\n",
      "11     29.296727\n",
      "12      5.327193\n",
      "13      9.657965\n",
      "Name: distance_error, dtype: float64, 0     687.008314\n",
      "1     198.250994\n",
      "2     100.651236\n",
      "3     555.855610\n",
      "4      10.492661\n",
      "5      13.705208\n",
      "6      48.174710\n",
      "7      15.734599\n",
      "8      36.746449\n",
      "9      79.995034\n",
      "10     10.492661\n",
      "11     29.296727\n",
      "12      5.327193\n",
      "13      9.657965\n",
      "Name: distance_error, dtype: float64, 0     687.008314\n",
      "1     198.250994\n",
      "2     100.651236\n",
      "3     555.855610\n",
      "4      10.492661\n",
      "5      13.705208\n",
      "6      48.174710\n",
      "7      15.734599\n",
      "8      36.746449\n",
      "9      79.995034\n",
      "10     10.492661\n",
      "11     29.296727\n",
      "12      5.327193\n",
      "13      9.657965\n",
      "Name: distance_error, dtype: float64, 0     687.008314\n",
      "1     198.250994\n",
      "2     100.651236\n",
      "3     555.855610\n",
      "4      10.492661\n",
      "5      13.705208\n",
      "6      48.174710\n",
      "7      15.734599\n",
      "8      36.746449\n",
      "9      79.995034\n",
      "10     10.492661\n",
      "11     29.296727\n",
      "12      5.327193\n",
      "13      9.657965\n",
      "Name: distance_error, dtype: float64, 0     687.008314\n",
      "1     198.250994\n",
      "2     100.651236\n",
      "3     555.855610\n",
      "4      10.492661\n",
      "5      13.705208\n",
      "6      48.174710\n",
      "7      15.734599\n",
      "8      36.746449\n",
      "9      79.995034\n",
      "10     10.492661\n",
      "11     29.296727\n",
      "12      5.327193\n",
      "13      9.657965\n",
      "Name: distance_error, dtype: float64, 0     687.008314\n",
      "1     198.250994\n",
      "2     100.651236\n",
      "3     555.855610\n",
      "4      10.492661\n",
      "5      13.705208\n",
      "6      48.174710\n",
      "7      15.734599\n",
      "8      36.746449\n",
      "9      79.995034\n",
      "10     10.492661\n",
      "11     29.296727\n",
      "12      5.327193\n",
      "13      9.657965\n",
      "Name: distance_error, dtype: float64, 0     687.008314\n",
      "1     198.250994\n",
      "2     100.651236\n",
      "3     555.855610\n",
      "4      10.492661\n",
      "5      13.705208\n",
      "6      48.174710\n",
      "7      15.734599\n",
      "8      36.746449\n",
      "9      79.995034\n",
      "10     10.492661\n",
      "11     29.296727\n",
      "12      5.327193\n",
      "13      9.657965\n",
      "Name: distance_error, dtype: float64, 0     687.008314\n",
      "1     198.250994\n",
      "2     100.651236\n",
      "3     555.855610\n",
      "4      10.492661\n",
      "5      13.705208\n",
      "6      48.174710\n",
      "7      15.734599\n",
      "8      36.746449\n",
      "9      79.995034\n",
      "10     10.492661\n",
      "11     29.296727\n",
      "12      5.327193\n",
      "13      9.657965\n",
      "Name: distance_error, dtype: float64, 0     687.008314\n",
      "1     198.250994\n",
      "2     100.651236\n",
      "3     555.855610\n",
      "4      10.492661\n",
      "5      13.705208\n",
      "6      48.174710\n",
      "7      15.734599\n",
      "8      36.746449\n",
      "9      79.995034\n",
      "10     10.492661\n",
      "11     29.296727\n",
      "12      5.327193\n",
      "13      9.657965\n",
      "Name: distance_error, dtype: float64, 0     687.008314\n",
      "1     198.250994\n",
      "2     100.651236\n",
      "3     555.855610\n",
      "4      10.492661\n",
      "5      13.705208\n",
      "6      48.174710\n",
      "7      15.734599\n",
      "8      36.746449\n",
      "9      79.995034\n",
      "10     10.492661\n",
      "11     29.296727\n",
      "12      5.327193\n",
      "13      9.657965\n",
      "Name: distance_error, dtype: float64, 0     687.008314\n",
      "1     198.250994\n",
      "2     100.651236\n",
      "3     555.855610\n",
      "4      10.492661\n",
      "5      13.705208\n",
      "6      48.174710\n",
      "7      15.734599\n",
      "8      36.746449\n",
      "9      79.995034\n",
      "10     10.492661\n",
      "11     29.296727\n",
      "12      5.327193\n",
      "13      9.657965\n",
      "Name: distance_error, dtype: float64, 0     687.008314\n",
      "1     198.250994\n",
      "2     100.651236\n",
      "3     555.855610\n",
      "4      10.492661\n",
      "5      13.705208\n",
      "6      48.174710\n",
      "7      15.734599\n",
      "8      36.746449\n",
      "9      79.995034\n",
      "10     10.492661\n",
      "11     29.296727\n",
      "12      5.327193\n",
      "13      9.657965\n",
      "Name: distance_error, dtype: float64, 0     687.008314\n",
      "1     198.250994\n",
      "2     100.651236\n",
      "3     555.855610\n",
      "4      10.492661\n",
      "5      13.705208\n",
      "6      48.174710\n",
      "7      15.734599\n",
      "8      36.746449\n",
      "9      79.995034\n",
      "10     10.492661\n",
      "11     29.296727\n",
      "12      5.327193\n",
      "13      9.657965\n",
      "Name: distance_error, dtype: float64, 0     687.008314\n",
      "1     198.250994\n",
      "2     100.651236\n",
      "3     555.855610\n",
      "4      10.492661\n",
      "5      13.705208\n",
      "6      48.174710\n",
      "7      15.734599\n",
      "8      36.746449\n",
      "9      79.995034\n",
      "10     10.492661\n",
      "11     29.296727\n",
      "12      5.327193\n",
      "13      9.657965\n",
      "Name: distance_error, dtype: float64, 0     687.008314\n",
      "1     198.250994\n",
      "2     100.651236\n",
      "3     555.855610\n",
      "4      10.492661\n",
      "5      13.705208\n",
      "6      48.174710\n",
      "7      15.734599\n",
      "8      36.746449\n",
      "9      79.995034\n",
      "10     10.492661\n",
      "11     29.296727\n",
      "12      5.327193\n",
      "13      9.657965\n",
      "Name: distance_error, dtype: float64, 0     687.008314\n",
      "1     198.250994\n",
      "2     100.651236\n",
      "3     555.855610\n",
      "4      10.492661\n",
      "5      13.705208\n",
      "6      48.174710\n",
      "7      15.734599\n",
      "8      36.746449\n",
      "9      79.995034\n",
      "10     10.492661\n",
      "11     29.296727\n",
      "12      5.327193\n",
      "13      9.657965\n",
      "Name: distance_error, dtype: float64, 0     687.008314\n",
      "1     198.250994\n",
      "2     100.651236\n",
      "3     555.855610\n",
      "4      10.492661\n",
      "5      13.705208\n",
      "6      48.174710\n",
      "7      15.734599\n",
      "8      36.746449\n",
      "9      79.995034\n",
      "10     10.492661\n",
      "11     29.296727\n",
      "12      5.327193\n",
      "13      9.657965\n",
      "Name: distance_error, dtype: float64, 0     687.008314\n",
      "1     198.250994\n",
      "2     100.651236\n",
      "3     555.855610\n",
      "4      10.492661\n",
      "5      13.705208\n",
      "6      48.174710\n",
      "7      15.734599\n",
      "8      36.746449\n",
      "9      79.995034\n",
      "10     10.492661\n",
      "11     29.296727\n",
      "12      5.327193\n",
      "13      9.657965\n",
      "Name: distance_error, dtype: float64, 0     687.008314\n",
      "1     198.250994\n",
      "2     100.651236\n",
      "3     555.855610\n",
      "4      10.492661\n",
      "5      13.705208\n",
      "6      48.174710\n",
      "7      15.734599\n",
      "8      36.746449\n",
      "9      79.995034\n",
      "10     10.492661\n",
      "11     29.296727\n",
      "12      5.327193\n",
      "13      9.657965\n",
      "Name: distance_error, dtype: float64, 0     687.008314\n",
      "1     198.250994\n",
      "2     100.651236\n",
      "3     555.855610\n",
      "4      10.492661\n",
      "5      13.705208\n",
      "6      48.174710\n",
      "7      15.734599\n",
      "8      36.746449\n",
      "9      79.995034\n",
      "10     10.492661\n",
      "11     29.296727\n",
      "12      5.327193\n",
      "13      9.657965\n",
      "Name: distance_error, dtype: float64, 0     687.008314\n",
      "1     198.250994\n",
      "2     100.651236\n",
      "3     555.855610\n",
      "4      10.492661\n",
      "5      13.705208\n",
      "6      48.174710\n",
      "7      15.734599\n",
      "8      36.746449\n",
      "9      79.995034\n",
      "10     10.492661\n",
      "11     29.296727\n",
      "12      5.327193\n",
      "13      9.657965\n",
      "Name: distance_error, dtype: float64, 0     687.008314\n",
      "1     198.250994\n",
      "2     100.651236\n",
      "3     555.855610\n",
      "4      10.492661\n",
      "5      13.705208\n",
      "6      48.174710\n",
      "7      15.734599\n",
      "8      36.746449\n",
      "9      79.995034\n",
      "10     10.492661\n",
      "11     29.296727\n",
      "12      5.327193\n",
      "13      9.657965\n",
      "Name: distance_error, dtype: float64, 0     687.008314\n",
      "1     198.250994\n",
      "2     100.651236\n",
      "3     555.855610\n",
      "4      10.492661\n",
      "5      13.705208\n",
      "6      48.174710\n",
      "7      15.734599\n",
      "8      36.746449\n",
      "9      79.995034\n",
      "10     10.492661\n",
      "11     29.296727\n",
      "12      5.327193\n",
      "13      9.657965\n",
      "Name: distance_error, dtype: float64, 0     687.008314\n",
      "1     198.250994\n",
      "2     100.651236\n",
      "3     555.855610\n",
      "4      10.492661\n",
      "5      13.705208\n",
      "6      48.174710\n",
      "7      15.734599\n",
      "8      36.746449\n",
      "9      79.995034\n",
      "10     10.492661\n",
      "11     29.296727\n",
      "12      5.327193\n",
      "13      9.657965\n",
      "Name: distance_error, dtype: float64, 0     687.008314\n",
      "1     198.250994\n",
      "2     100.651236\n",
      "3     555.855610\n",
      "4      10.492661\n",
      "5      13.705208\n",
      "6      48.174710\n",
      "7      15.734599\n",
      "8      36.746449\n",
      "9      79.995034\n",
      "10     10.492661\n",
      "11     29.296727\n",
      "12      5.327193\n",
      "13      9.657965\n",
      "Name: distance_error, dtype: float64, 0     687.008314\n",
      "1     198.250994\n",
      "2     100.651236\n",
      "3     555.855610\n",
      "4      10.492661\n",
      "5      13.705208\n",
      "6      48.174710\n",
      "7      15.734599\n",
      "8      36.746449\n",
      "9      79.995034\n",
      "10     10.492661\n",
      "11     29.296727\n",
      "12      5.327193\n",
      "13      9.657965\n",
      "Name: distance_error, dtype: float64, 0     687.008314\n",
      "1     198.250994\n",
      "2     100.651236\n",
      "3     555.855610\n",
      "4      10.492661\n",
      "5      13.705208\n",
      "6      48.174710\n",
      "7      15.734599\n",
      "8      36.746449\n",
      "9      79.995034\n",
      "10     10.492661\n",
      "11     29.296727\n",
      "12      5.327193\n",
      "13      9.657965\n",
      "Name: distance_error, dtype: float64, 0     687.008314\n",
      "1     198.250994\n",
      "2     100.651236\n",
      "3     555.855610\n",
      "4      10.492661\n",
      "5      13.705208\n",
      "6      48.174710\n",
      "7      15.734599\n",
      "8      36.746449\n",
      "9      79.995034\n",
      "10     10.492661\n",
      "11     29.296727\n",
      "12      5.327193\n",
      "13      9.657965\n",
      "Name: distance_error, dtype: float64, 0     687.008314\n",
      "1     198.250994\n",
      "2     100.651236\n",
      "3     555.855610\n",
      "4      10.492661\n",
      "5      13.705208\n",
      "6      48.174710\n",
      "7      15.734599\n",
      "8      36.746449\n",
      "9      79.995034\n",
      "10     10.492661\n",
      "11     29.296727\n",
      "12      5.327193\n",
      "13      9.657965\n",
      "Name: distance_error, dtype: float64, 0     687.008314\n",
      "1     198.250994\n",
      "2     100.651236\n",
      "3     555.855610\n",
      "4      10.492661\n",
      "5      13.705208\n",
      "6      48.174710\n",
      "7      15.734599\n",
      "8      36.746449\n",
      "9      79.995034\n",
      "10     10.492661\n",
      "11     29.296727\n",
      "12      5.327193\n",
      "13      9.657965\n",
      "Name: distance_error, dtype: float64, 0     687.008314\n",
      "1     198.250994\n",
      "2     100.651236\n",
      "3     555.855610\n",
      "4      10.492661\n",
      "5      13.705208\n",
      "6      48.174710\n",
      "7      15.734599\n",
      "8      36.746449\n",
      "9      79.995034\n",
      "10     10.492661\n",
      "11     29.296727\n",
      "12      5.327193\n",
      "13      9.657965\n",
      "Name: distance_error, dtype: float64, 0     687.008314\n",
      "1     198.250994\n",
      "2     100.651236\n",
      "3     555.855610\n",
      "4      10.492661\n",
      "5      13.705208\n",
      "6      48.174710\n",
      "7      15.734599\n",
      "8      36.746449\n",
      "9      79.995034\n",
      "10     10.492661\n",
      "11     29.296727\n",
      "12      5.327193\n",
      "13      9.657965\n",
      "Name: distance_error, dtype: float64, 0     687.008314\n",
      "1     198.250994\n",
      "2     100.651236\n",
      "3     555.855610\n",
      "4      10.492661\n",
      "5      13.705208\n",
      "6      48.174710\n",
      "7      15.734599\n",
      "8      36.746449\n",
      "9      79.995034\n",
      "10     10.492661\n",
      "11     29.296727\n",
      "12      5.327193\n",
      "13      9.657965\n",
      "Name: distance_error, dtype: float64, 0     687.008314\n",
      "1     198.250994\n",
      "2     100.651236\n",
      "3     555.855610\n",
      "4      10.492661\n",
      "5      13.705208\n",
      "6      48.174710\n",
      "7      15.734599\n",
      "8      36.746449\n",
      "9      79.995034\n",
      "10     10.492661\n",
      "11     29.296727\n",
      "12      5.327193\n",
      "13      9.657965\n",
      "Name: distance_error, dtype: float64, 0     687.008314\n",
      "1     198.250994\n",
      "2     100.651236\n",
      "3     555.855610\n",
      "4      10.492661\n",
      "5      13.705208\n",
      "6      48.174710\n",
      "7      15.734599\n",
      "8      36.746449\n",
      "9      79.995034\n",
      "10     10.492661\n",
      "11     29.296727\n",
      "12      5.327193\n",
      "13      9.657965\n",
      "Name: distance_error, dtype: float64]\n"
     ]
    }
   ],
   "source": [
    "massless_dataset = []\n",
    "chisquare_series = []\n",
    "for i in range(50,100,1):\n",
    "    # i will be a  FACTOR the hubble constant\n",
    "    hubble_constant_iteration = []\n",
    "    chisum = 0\n",
    "    for j in range(len(df['redshift'])):\n",
    "        chisum += ((massless_hubble_equation(z=df['redshift'][j], c=3E5, h = 70) - df['distance'][j] * 1e-6)**2)/(df['distance_error']* 1E-6)**2\n",
    "    #print(chisum)\n",
    "    chisquare_series.append(chisum)\n",
    "#print(chisquare_series)\n",
    "#print(np.min(chisquare_series))"
   ]
  },
  {
   "cell_type": "code",
   "execution_count": 43,
   "id": "c97a50bf",
   "metadata": {
    "scrolled": true
   },
   "outputs": [
    {
     "name": "stdout",
     "output_type": "stream",
     "text": [
      "16.528097355558295\n"
     ]
    }
   ],
   "source": [
    "mass_dominated_chisquare_series = []\n",
    "for i in range(50,100,1):\n",
    "    # i will be a  FACTOR the hubble constant\n",
    "    hubble_constant_iteration = []\n",
    "    chisum = 0\n",
    "    for j in range(len(df['redshift'])):\n",
    "        chisum += float(((mass_dominated_hubble_equation(z=df['redshift'][j], c=3E5, h = i) - df['distance'][j] * 1E-6)**2)/10**2)\n",
    "    #print(chisum)\n",
    "    mass_dominated_chisquare_series.append(chisum)\n",
    "print(np.min(mass_dominated_chisquare_series))"
   ]
  },
  {
   "cell_type": "code",
   "execution_count": 44,
   "id": "2c5bea84",
   "metadata": {},
   "outputs": [
    {
     "name": "stdout",
     "output_type": "stream",
     "text": [
      "17.892387074101247\n"
     ]
    }
   ],
   "source": [
    "simple_chisquare_series = []\n",
    "for i in range(50,100,1):\n",
    "    hubble_constant_iteration = []\n",
    "    chisum = 0\n",
    "    for j in range(len(df['redshift'])):\n",
    "        chisum += float(((simple_hubble_equation(z=df['redshift'][j], c=3E5, h = i) - df['distance'][j] * 1E-6)**2)/10**2)\n",
    "    simple_chisquare_series.append(chisum)\n",
    "print(np.min(simple_chisquare_series))"
   ]
  },
  {
   "cell_type": "code",
   "execution_count": 31,
   "id": "0493f426",
   "metadata": {
    "scrolled": true
   },
   "outputs": [
    {
     "data": {
      "image/png": "[encoded data removed]",
      "text/plain": [
       "<Figure size 432x288 with 1 Axes>"
      ]
     },
     "metadata": {
      "needs_background": "light"
     },
     "output_type": "display_data"
    }
   ],
   "source": [
    "plt.plot([i for i in range(50,100,1)], simple_chisquare_series, label=\"Simple\", linewidth=1)\n",
    "plt.plot([i for i in range(50,100,1)], mass_dominated_chisquare_series, label=\"Mass dominated\", linewidth=1, color=\"green\")\n",
    "plt.plot([i for i in range(50,100,1)], chisquare_series, label=\"Massless\", linewidth=1, color=\"red\")\n",
    "plt.ylabel(\"$ \\chi^{2}$\")\n",
    "plt.xlabel(\"$H_{0}$ / $kms^{-1} \\cdot MPc^{-1}$\")\n",
    "plt.legend(loc=\"lower center\")\n",
    "plt.legend(loc=\"upper center\")\n",
    "plt.title('$\\chi^{2}$ and the Hubble constant - inspection of the models.')\n",
    "plt.savefig('chisqaure_fit_models.png')"
   ]
  },
  {
   "cell_type": "code",
   "execution_count": 277,
   "id": "ceafd992",
   "metadata": {},
   "outputs": [
    {
     "data": {
      "image/png": "[encoded data removed]",
      "text/plain": [
       "<Figure size 432x288 with 1 Axes>"
      ]
     },
     "metadata": {
      "needs_background": "light"
     },
     "output_type": "display_data"
    }
   ],
   "source": [
    "plt.plot([i for i in range(65,75,1)], simple_chisquare_series[14:24],  label=\"Simple\", color=\"blue\")\n",
    "plt.plot([i for i in range(65,75,1)], mass_dominated_chisquare_series[14:24], label=\"Mass dominated\", color=\"green\")\n",
    "plt.plot([i for i in range(65,75,1)], chisquare_series[14:24],  label=\"Massless\", color=\"red\")\n",
    "\n",
    "plt.xlim( [ 66, 72 ] ) \n",
    "plt.ylim( [ 10, 25 ] )\n",
    "plt.ylabel(\"$ \\chi^{2}$\")\n",
    "plt.xlabel(\"$H_{0}$ / $kms^{-1} \\cdot MPc^{-1}$\")\n",
    "plt.axvline(x=70, color='red', linestyle='dotted', linewidth=1)\n",
    "plt.axhline(y=15.8,color='red', linestyle='dotted', linewidth=1)\n",
    "# Y ticks every 50.  You can provide any list.\n",
    "#plt.# Plot from y=0 to y=250.\n",
    "plt.legend(loc=\"lower left\")\n",
    "plt.savefig('zoomed_in_chi_square.png')"
   ]
  },
  {
   "cell_type": "markdown",
   "id": "27074c07",
   "metadata": {},
   "source": [
    "## Task 5"
   ]
  },
  {
   "cell_type": "code",
   "execution_count": 69,
   "id": "b526eaed",
   "metadata": {},
   "outputs": [],
   "source": [
    "reiss_data = pd.read_csv('./ExpandingUniverseLab/ExpandingUniverseLab/sndata/reiss1998.txt',delimiter=\"\\t\")"
   ]
  },
  {
   "cell_type": "code",
   "execution_count": 70,
   "id": "0c7fd767",
   "metadata": {},
   "outputs": [
    {
     "data": {
      "text/html": [
       "<div>\n",
       "<style scoped>\n",
       "    .dataframe tbody tr th:only-of-type {\n",
       "        vertical-align: middle;\n",
       "    }\n",
       "\n",
       "    .dataframe tbody tr th {\n",
       "        vertical-align: top;\n",
       "    }\n",
       "\n",
       "    .dataframe thead th {\n",
       "        text-align: right;\n",
       "    }\n",
       "</style>\n",
       "<table border=\"1\" class=\"dataframe\">\n",
       "  <thead>\n",
       "    <tr style=\"text-align: right;\">\n",
       "      <th></th>\n",
       "      <th>SN</th>\n",
       "      <th>z</th>\n",
       "      <th>z_error</th>\n",
       "      <th>mod_d</th>\n",
       "      <th>d_error</th>\n",
       "    </tr>\n",
       "  </thead>\n",
       "  <tbody>\n",
       "    <tr>\n",
       "      <th>0</th>\n",
       "      <td>1996E</td>\n",
       "      <td>0.43</td>\n",
       "      <td>0.01</td>\n",
       "      <td>41.74</td>\n",
       "      <td>0.38</td>\n",
       "    </tr>\n",
       "    <tr>\n",
       "      <th>1</th>\n",
       "      <td>1996H</td>\n",
       "      <td>0.62</td>\n",
       "      <td>0.01</td>\n",
       "      <td>42.98</td>\n",
       "      <td>0.17</td>\n",
       "    </tr>\n",
       "    <tr>\n",
       "      <th>2</th>\n",
       "      <td>1996I</td>\n",
       "      <td>0.57</td>\n",
       "      <td>0.01</td>\n",
       "      <td>42.76</td>\n",
       "      <td>0.19</td>\n",
       "    </tr>\n",
       "    <tr>\n",
       "      <th>3</th>\n",
       "      <td>1996J</td>\n",
       "      <td>0.30</td>\n",
       "      <td>0.01</td>\n",
       "      <td>41.38</td>\n",
       "      <td>0.24</td>\n",
       "    </tr>\n",
       "    <tr>\n",
       "      <th>4</th>\n",
       "      <td>1996K</td>\n",
       "      <td>0.38</td>\n",
       "      <td>0.01</td>\n",
       "      <td>41.63</td>\n",
       "      <td>0.20</td>\n",
       "    </tr>\n",
       "    <tr>\n",
       "      <th>5</th>\n",
       "      <td>1996U</td>\n",
       "      <td>0.43</td>\n",
       "      <td>0.01</td>\n",
       "      <td>42.55</td>\n",
       "      <td>0.25</td>\n",
       "    </tr>\n",
       "    <tr>\n",
       "      <th>6</th>\n",
       "      <td>1997ce</td>\n",
       "      <td>0.44</td>\n",
       "      <td>0.01</td>\n",
       "      <td>41.95</td>\n",
       "      <td>0.17</td>\n",
       "    </tr>\n",
       "    <tr>\n",
       "      <th>7</th>\n",
       "      <td>1997cj</td>\n",
       "      <td>0.50</td>\n",
       "      <td>0.01</td>\n",
       "      <td>42.40</td>\n",
       "      <td>0.17</td>\n",
       "    </tr>\n",
       "    <tr>\n",
       "      <th>8</th>\n",
       "      <td>1997ck</td>\n",
       "      <td>0.97</td>\n",
       "      <td>0.01</td>\n",
       "      <td>44.39</td>\n",
       "      <td>0.30</td>\n",
       "    </tr>\n",
       "    <tr>\n",
       "      <th>9</th>\n",
       "      <td>1995K</td>\n",
       "      <td>0.48</td>\n",
       "      <td>0.01</td>\n",
       "      <td>42.45</td>\n",
       "      <td>0.17</td>\n",
       "    </tr>\n",
       "  </tbody>\n",
       "</table>\n",
       "</div>"
      ],
      "text/plain": [
       "       SN     z  z_error  mod_d  d_error\n",
       "0   1996E  0.43     0.01  41.74     0.38\n",
       "1   1996H  0.62     0.01  42.98     0.17\n",
       "2   1996I  0.57     0.01  42.76     0.19\n",
       "3   1996J  0.30     0.01  41.38     0.24\n",
       "4   1996K  0.38     0.01  41.63     0.20\n",
       "5   1996U  0.43     0.01  42.55     0.25\n",
       "6  1997ce  0.44     0.01  41.95     0.17\n",
       "7  1997cj  0.50     0.01  42.40     0.17\n",
       "8  1997ck  0.97     0.01  44.39     0.30\n",
       "9   1995K  0.48     0.01  42.45     0.17"
      ]
     },
     "execution_count": 70,
     "metadata": {},
     "output_type": "execute_result"
    }
   ],
   "source": [
    "reiss_data"
   ]
  },
  {
   "cell_type": "code",
   "execution_count": 129,
   "id": "fa5b7088",
   "metadata": {},
   "outputs": [],
   "source": [
    "reiss_data['d'] = 10**((reiss_data['mod_d'] + 5)/5)\n",
    "reiss_data['distance_error'] =  (10**((reiss_data['mod_d'] +  reiss_data['d_error'] + 5)/5) - 10**((reiss_data['mod_d'] -  reiss_data['d_error'] + 5)/5))/2"
   ]
  },
  {
   "cell_type": "code",
   "execution_count": 130,
   "id": "d41cc2d3",
   "metadata": {},
   "outputs": [
    {
     "name": "stdout",
     "output_type": "stream",
     "text": [
      "       SN     z  z_error  mod_d  d_error             d  distance_error\n",
      "0   1996E  0.43     0.01  41.74     0.38  2.228435e+09    3.919617e+08\n",
      "1   1996H  0.62     0.01  42.98     0.17  3.944573e+09    3.091279e+08\n",
      "2   1996I  0.57     0.01  42.76     0.19  3.564511e+09    3.122866e+08\n",
      "3   1996J  0.30     0.01  41.38     0.24  1.887991e+09    2.090936e+08\n",
      "4   1996K  0.38     0.01  41.63     0.20  2.118361e+09    1.953842e+08\n",
      "5   1996U  0.43     0.01  42.55     0.25  3.235937e+09    3.733745e+08\n",
      "6  1997ce  0.44     0.01  41.95     0.17  2.454709e+09    1.923704e+08\n",
      "7  1997cj  0.50     0.01  42.40     0.17  3.019952e+09    2.366672e+08\n",
      "8  1997ck  0.97     0.01  44.39     0.30  7.550922e+09    1.046520e+09\n",
      "9   1995K  0.48     0.01  42.45     0.17  3.090295e+09    2.421799e+08\n"
     ]
    }
   ],
   "source": [
    "print(reiss_data)"
   ]
  },
  {
   "cell_type": "code",
   "execution_count": 131,
   "id": "f12af193",
   "metadata": {},
   "outputs": [],
   "source": [
    "hubble_straight_model_extended = np.linspace(0, 1, 100)\n",
    "predicted_distance_extended = model.predict(hubble_straight_model[:, np.newaxis])"
   ]
  },
  {
   "cell_type": "code",
   "execution_count": 132,
   "id": "32d56984",
   "metadata": {},
   "outputs": [],
   "source": [
    "hubble_massless_model = np.linspace(0, 1, 100)\n",
    "predicted_distance_massless = [massless_hubble_equation(z=i, c=3E5, h=70 ) for i in hubble_massless_model]"
   ]
  },
  {
   "cell_type": "code",
   "execution_count": 133,
   "id": "5b28dccc",
   "metadata": {},
   "outputs": [],
   "source": [
    "hubble_mass_dominant_model = np.linspace(0, 1, 100)\n",
    "predicted_distance_mass_dominant = [mass_dominated_hubble_equation(z=i, c=3E5, h=70 ) for i in hubble_massless_model]"
   ]
  },
  {
   "cell_type": "code",
   "execution_count": 144,
   "id": "825612b1",
   "metadata": {
    "scrolled": false
   },
   "outputs": [
    {
     "data": {
      "text/plain": [
       "Text(0.5, 0, 'z')"
      ]
     },
     "execution_count": 144,
     "metadata": {},
     "output_type": "execute_result"
    },
    {
     "data": {
      "image/png": "[encoded data removed]",
      "text/plain": [
       "<Figure size 432x288 with 1 Axes>"
      ]
     },
     "metadata": {
      "needs_background": "light"
     },
     "output_type": "display_data"
    }
   ],
   "source": [
    "plt.errorbar(reiss_data['z'] , reiss_data['d'] * 1e-6, xerr=reiss_data['z_error'], yerr=reiss_data['distance_error'] * 0.5  * 1E-6, fmt=\"o\", color=\"black\", label=\"Reiss data\")\n",
    "plt.plot(hubble_straight_model_extended, predicted_distance_extended * 1E-6, color=\"blue\", label=\"(Linear)\")\n",
    "plt.plot(hubble_massless_model, predicted_distance_massless, color=\"red\", label=\"(Massless)\")\n",
    "plt.plot(hubble_mass_dominant_model, predicted_distance_mass_dominant, color=\"green\", label=\"(Mass dominant)\")\n",
    "plt.legend(loc=\"upper left\")\n",
    "plt.ylabel('distance / Mpc')\n",
    "plt.xlabel('z')\n",
    "#plt.title(\"Higher redshift regime - \")"
   ]
  },
  {
   "cell_type": "code",
   "execution_count": 156,
   "id": "e77e2810",
   "metadata": {
    "scrolled": true
   },
   "outputs": [
    {
     "name": "stdout",
     "output_type": "stream",
     "text": [
      "6.744572187329921\n",
      "[320.1615006075546, 277.36879413089736, 239.53277345614345, 206.1087124390932, 176.6190773263312, 150.64414103126848, 127.81406661318887, 107.80220543202546, 90.3194037004464, 75.10914949311135, 61.943422888295885, 50.619136481801895, 40.95507331295911, 32.789245271613936, 25.976608085848202, 20.387079626231657, 15.903816977364723, 12.4217148948379, 9.846094181417518, 8.091553415655358, 7.080961537264353, 6.744572187329921, 7.019243539179296, 7.847749735652144, 9.178172050207309, 10.963359577548516, 13.160450687163321, 15.730447683687231, 18.637838146952447, 21.850257301321538, 25.338186512719005, 29.074683652787552, 33.03514161954641, 37.19707177676914, 41.539909481688184, 46.04483922234556, 50.69463719015074, 55.47352937688906, 60.3670635143799, 65.3619933741463, 70.44617411800847, 75.6084675420072, 80.83865618852047, 86.12736541744253, 91.46599262904753, 96.84664292055427, 102.26207053706023, 107.70562554681437, 113.1712052319507, 118.65320973983863, 124.14650158801788, 129.64636865804562, 135.14849035116427, 140.64890661208005, 146.1439895568305, 151.63041746715513, 157.10515093735287, 162.565410980642, 168.0086589208376, 173.43257791197183]\n"
     ]
    }
   ],
   "source": [
    "#mass_dominated_dataset = []\n",
    "nobel_massless_chisquare_series = []\n",
    "for i in range(40,100,1):\n",
    "    # i will be a  FACTOR the hubble constant\n",
    "    chisum = 0\n",
    "    for j in range(len(reiss_data['z'])):\n",
    "        chisum +=((reiss_data['d'][j] * 1e-6 - massless_hubble_equation(z=reiss_data['z'][j], c=3E5, h = i))**2/(reiss_data['distance_error'][j] * 1e-6)**2)\n",
    "    nobel_massless_chisquare_series.append(chisum)\n",
    "print(np.min(nobel_massless_chisquare_series))\n",
    "print(nobel_massless_chisquare_series)"
   ]
  },
  {
   "cell_type": "markdown",
   "id": "0b84cc6d",
   "metadata": {},
   "source": [
    "### Best fit value at h = 62, massless ..."
   ]
  },
  {
   "cell_type": "code",
   "execution_count": 155,
   "id": "6f3a54ad",
   "metadata": {},
   "outputs": [
    {
     "name": "stdout",
     "output_type": "stream",
     "text": [
      "8.00385097160728\n",
      "[722.8474513128976, 622.4814033537745, 535.2801548290957, 459.43935348728957, 393.43629829668737, 335.98007607749383, 285.9715687033469, 242.47117630737202, 204.67261438413763, 171.88152364052917, 143.4979170152765, 119.00170402872551, 97.94069682583927, 79.9206281286754, 64.59680841927111, 51.6671250716763, 40.86614504783918, 31.960129041629003, 24.742801504052473, 19.03175000348311, 14.665350532814598, 11.500133943236316, 9.408523639543812, 8.276886770004575, 8.00385097160728, 8.498846747146576, 9.680842113417594, 11.477241553057647, 13.822925750516843, 16.659412273553748, 19.934120417886167, 23.59972597828203, 27.613593836272646, 31.93727803696763, 36.53608052525985, 41.37866097392945, 46.436691202682994, 51.68454859068159, 57.099043652443754, 62.65917760026841, 68.34592627377627, 74.14204729394498, 80.03190770769622, 86.00132974015122, 92.03745257386441, 98.12860833499468, 104.26421069163018, 110.43465466453274, 116.6312264197602, 122.84602195966588, 129.07187375677756, 135.3022844866827, 141.5313671135518, 147.75379066723272, 153.96473112560346, 160.1598268814668, 166.3351383309336, 172.48711117098946, 178.6125430386753, 184.7085531637964, 190.77255474197636, 196.80222976575698, 202.7955060788169, 208.750536442667, 214.66567942675357, 220.53948195208972, 226.3706633356199, 232.15810069775577, 237.90081560911506, 243.59796186464106]\n"
     ]
    }
   ],
   "source": [
    "#mass_dominated_dataset = []\n",
    "nobel_mass_dominant_chisquare_series = []\n",
    "for i in range(30,100,1):\n",
    "    # i will be a  FACTOR the hubble constant\n",
    "    chisum = 0\n",
    "    for j in range(len(reiss_data['z'])):\n",
    "        #chisum += float(((mass_dominated_hubble_equation(z=reiss_data['z'][j], c=3E5, h = i) - reiss_data['d'][j] * 1E-6)**2)/100**2)\n",
    "        chisum +=((reiss_data['d'][j] * 1e-6 - mass_dominated_hubble_equation(z=reiss_data['z'][j], c=3E5, h = i))**2/(reiss_data['distance_error'][j] * 1e-6)**2)\n",
    "    \n",
    "    \n",
    "    nobel_mass_dominant_chisquare_series.append(chisum)\n",
    "print(np.min(nobel_mass_dominant_chisquare_series))\n",
    "print(nobel_mass_dominant_chisquare_series)"
   ]
  },
  {
   "cell_type": "markdown",
   "id": "6aa50974",
   "metadata": {},
   "source": [
    "### h = 55 best value ..."
   ]
  },
  {
   "cell_type": "code",
   "execution_count": 143,
   "id": "46a278ee",
   "metadata": {},
   "outputs": [
    {
     "data": {
      "image/png": "[encoded data removed]",
      "text/plain": [
       "<Figure size 576x432 with 1 Axes>"
      ]
     },
     "metadata": {
      "needs_background": "light"
     },
     "output_type": "display_data"
    }
   ],
   "source": [
    "plt.figure(figsize=(8,6))\n",
    "plt.plot([i for i in range(40,100,1)], nobel_massless_chisquare_series, color=\"red\", label=\"(Massless)\")\n",
    "plt.plot([i for i in range(30,100,1)], nobel_mass_dominant_chisquare_series, color=\"green\", label=\"(Mass dominant)\")\n",
    "plt.ylim([0, 50])\n",
    "plt.xlim([45, 70])\n",
    "plt.ylabel('$ \\chi^2 $')\n",
    "plt.xlabel('$H_0$ / $kms^{-1} \\cdot MPc^{-1}$')\n",
    "plt.title(\"Chi square fit for Reiss data\")\n",
    "plt.legend(loc='lower right')\n",
    "plt.savefig(\"reiss_chi.png\")"
   ]
  },
  {
   "cell_type": "markdown",
   "id": "db786cbc",
   "metadata": {},
   "source": [
    "## Task 6"
   ]
  },
  {
   "cell_type": "code",
   "execution_count": 145,
   "id": "d8ff4294",
   "metadata": {},
   "outputs": [],
   "source": [
    "theoretical_DL = pd.read_csv('./ExpandingUniverseLab/ExpandingUniverseLab/sndata/theoretical_DL.txt', delimiter=r\"\\s+\")"
   ]
  },
  {
   "cell_type": "code",
   "execution_count": 146,
   "id": "f3fe0f02",
   "metadata": {},
   "outputs": [
    {
     "data": {
      "text/html": [
       "<div>\n",
       "<style scoped>\n",
       "    .dataframe tbody tr th:only-of-type {\n",
       "        vertical-align: middle;\n",
       "    }\n",
       "\n",
       "    .dataframe tbody tr th {\n",
       "        vertical-align: top;\n",
       "    }\n",
       "\n",
       "    .dataframe thead th {\n",
       "        text-align: right;\n",
       "    }\n",
       "</style>\n",
       "<table border=\"1\" class=\"dataframe\">\n",
       "  <thead>\n",
       "    <tr style=\"text-align: right;\">\n",
       "      <th></th>\n",
       "      <th>redshift</th>\n",
       "      <th>theoretical_distance</th>\n",
       "    </tr>\n",
       "  </thead>\n",
       "  <tbody>\n",
       "    <tr>\n",
       "      <th>0</th>\n",
       "      <td>0.0001</td>\n",
       "      <td>0.856767</td>\n",
       "    </tr>\n",
       "    <tr>\n",
       "      <th>1</th>\n",
       "      <td>0.0003</td>\n",
       "      <td>1.713800</td>\n",
       "    </tr>\n",
       "    <tr>\n",
       "      <th>2</th>\n",
       "      <td>0.0005</td>\n",
       "      <td>2.571098</td>\n",
       "    </tr>\n",
       "    <tr>\n",
       "      <th>3</th>\n",
       "      <td>0.0007</td>\n",
       "      <td>3.428662</td>\n",
       "    </tr>\n",
       "    <tr>\n",
       "      <th>4</th>\n",
       "      <td>0.0009</td>\n",
       "      <td>4.286491</td>\n",
       "    </tr>\n",
       "    <tr>\n",
       "      <th>...</th>\n",
       "      <td>...</td>\n",
       "      <td>...</td>\n",
       "    </tr>\n",
       "    <tr>\n",
       "      <th>9995</th>\n",
       "      <td>1.9995</td>\n",
       "      <td>15535.239000</td>\n",
       "    </tr>\n",
       "    <tr>\n",
       "      <th>9996</th>\n",
       "      <td>1.9997</td>\n",
       "      <td>15537.142000</td>\n",
       "    </tr>\n",
       "    <tr>\n",
       "      <th>9997</th>\n",
       "      <td>1.9999</td>\n",
       "      <td>15539.044000</td>\n",
       "    </tr>\n",
       "    <tr>\n",
       "      <th>9998</th>\n",
       "      <td>2.0001</td>\n",
       "      <td>15540.947000</td>\n",
       "    </tr>\n",
       "    <tr>\n",
       "      <th>9999</th>\n",
       "      <td>2.0003</td>\n",
       "      <td>15542.849000</td>\n",
       "    </tr>\n",
       "  </tbody>\n",
       "</table>\n",
       "<p>10000 rows × 2 columns</p>\n",
       "</div>"
      ],
      "text/plain": [
       "      redshift  theoretical_distance\n",
       "0       0.0001              0.856767\n",
       "1       0.0003              1.713800\n",
       "2       0.0005              2.571098\n",
       "3       0.0007              3.428662\n",
       "4       0.0009              4.286491\n",
       "...        ...                   ...\n",
       "9995    1.9995          15535.239000\n",
       "9996    1.9997          15537.142000\n",
       "9997    1.9999          15539.044000\n",
       "9998    2.0001          15540.947000\n",
       "9999    2.0003          15542.849000\n",
       "\n",
       "[10000 rows x 2 columns]"
      ]
     },
     "execution_count": 146,
     "metadata": {},
     "output_type": "execute_result"
    }
   ],
   "source": [
    "theoretical_DL"
   ]
  },
  {
   "cell_type": "code",
   "execution_count": 149,
   "id": "7317d6a1",
   "metadata": {},
   "outputs": [
    {
     "data": {
      "image/png": "[encoded data removed]",
      "text/plain": [
       "<Figure size 432x288 with 1 Axes>"
      ]
     },
     "metadata": {
      "needs_background": "light"
     },
     "output_type": "display_data"
    }
   ],
   "source": [
    "plt.plot(theoretical_DL['redshift'], theoretical_DL['theoretical_distance'], color=\"red\", label=\"Cosmological constant plot\")\n",
    "plt.errorbar(reiss_data['z'] , reiss_data['d'] * 1E-6, xerr=reiss_data['z_error'], yerr=reiss_data['distance_error']  * 1E-6, fmt=\"o\", color=\"black\", label=\"Reiss\")\n",
    "plt.errorbar(df['redshift'], df['distance'] * 1E-6,xerr=df['redshift_error'] , yerr=df['distance_error'] * 1E-6,fmt='o', color=\"grey\", label=\"Type Ia supernovae\")\n",
    "plt.xlim([0.002, 1.00])\n",
    "plt.ylim([0, 8500])\n",
    "plt.legend(loc=\"upper left\")\n",
    "plt.xlabel('z')\n",
    "plt.ylabel('distance / MPc')\n",
    "plt.title('Matter and dark energy theoretical model with both datasets')\n",
    "plt.savefig('task6.png')"
   ]
  },
  {
   "cell_type": "code",
   "execution_count": 150,
   "id": "4eac4527",
   "metadata": {
    "scrolled": true
   },
   "outputs": [],
   "source": [
    "interpolated_values = []\n",
    "for i in df['redshift']:\n",
    "\n",
    "    close_values = theoretical_DL.query('redshift >= {} and redshift <= {}'.format(i - 0.0005, i + 0.0005))\n",
    "    closest_value = round(float(min(close_values['redshift'], key = lambda x: abs(x-i))), 6)\n",
    "  \n",
    "\n",
    "    x = theoretical_DL.query('redshift >= {} and redshift < {}'.format(closest_value, closest_value + 0.0005))\n",
    "    interpolated_values.append(x.iloc[0])"
   ]
  },
  {
   "cell_type": "code",
   "execution_count": 923,
   "id": "d8b12781",
   "metadata": {},
   "outputs": [
    {
     "name": "stdout",
     "output_type": "stream",
     "text": [
      "15.83234714866088\n"
     ]
    }
   ],
   "source": [
    "task6_chisquare_series = []\n",
    "chisum = 0\n",
    "for j in range(len(df['redshift'])):\n",
    "    chisum += float(((df['distance'][j] *1E-6 -  interpolated_values[j]['theoretical_distance'])**2)/10**2)\n",
    "print(chisum)"
   ]
  },
  {
   "cell_type": "code",
   "execution_count": 151,
   "id": "da3dc1ce",
   "metadata": {},
   "outputs": [],
   "source": [
    "interpolated_values = []\n",
    "for i in reiss_data['z']:\n",
    "\n",
    "    close_values = theoretical_DL.query('redshift >= {} and redshift <= {}'.format(i - 0.0005, i + 0.0005))\n",
    "    closest_value = round(float(min(close_values['redshift'], key = lambda x: abs(x-i))), 6)\n",
    "  \n",
    "\n",
    "    x = theoretical_DL.query('redshift >= {} and redshift < {}'.format(closest_value, closest_value + 0.0005))\n",
    "    interpolated_values.append(x.iloc[0])"
   ]
  },
  {
   "cell_type": "code",
   "execution_count": 154,
   "id": "fe33285a",
   "metadata": {},
   "outputs": [
    {
     "name": "stdout",
     "output_type": "stream",
     "text": [
      "14.162543673330376\n"
     ]
    }
   ],
   "source": [
    "task6_reiss_chisquare_series = []\n",
    "chisum_reiss = 0\n",
    "for j in range(len(reiss_data['z'])):\n",
    "    #chisum_reiss += float(((reiss_data['d'][j] *1E-6 -  interpolated_values[j]['theoretical_distance'])**2)/(100)**2)\n",
    "    chisum_reiss +=(reiss_data['d'][j] * 1e-6 - interpolated_values[j]['theoretical_distance'])**2/(reiss_data['distance_error'][j] * 1e-6)**2\n",
    "print(chisum_reiss)\n"
   ]
  },
  {
   "cell_type": "code",
   "execution_count": null,
   "id": "2e6e96de",
   "metadata": {},
   "outputs": [],
   "source": []
  }
 ],
 "metadata": {
  "kernelspec": {
   "display_name": "Python 3",
   "language": "python",
   "name": "python3"
  },
  "language_info": {
   "codemirror_mode": {
    "name": "ipython",
    "version": 3
   },
   "file_extension": ".py",
   "mimetype": "text/x-python",
   "name": "python",
   "nbconvert_exporter": "python",
   "pygments_lexer": "ipython3",
   "version": "3.8.8"
  }
 },
 "nbformat": 4,
 "nbformat_minor": 5
}
