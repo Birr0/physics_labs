{
 "cells": [
  {
   "cell_type": "markdown",
   "id": "c03b8493",
   "metadata": {},
   "source": [
    "## Data preparation"
   ]
  },
  {
   "cell_type": "code",
   "execution_count": 53,
   "id": "f2d62305",
   "metadata": {},
   "outputs": [],
   "source": [
    "supernovae = ['SN2016fqr', 'SN2016fca', 'SN2016eja', 'SN2016ege','SN2016flu','SN2016blk',\n",
    "             'SN2016fim', 'SN2016fib', 'SN2016fes', 'SN2016ezh', 'SN2016eyn', 'SN2016dln',\n",
    "              'SN2016cvm', 'SN2016cvj', 'SN2016csg', 'SN2016ccs', 'SN2016afj', 'SN2016zr',\n",
    "              'SN2015bl', 'SN2016ww'\n",
    "             ]"
   ]
  },
  {
   "cell_type": "code",
   "execution_count": 54,
   "id": "b631356d",
   "metadata": {},
   "outputs": [],
   "source": [
    "import requests"
   ]
  },
  {
   "cell_type": "code",
   "execution_count": 55,
   "id": "2201fbc4",
   "metadata": {},
   "outputs": [],
   "source": [
    "type_1a = []\n",
    "for supernova in supernovae:\n",
    "    resp = requests.get('https://api.astrocats.space/{}'.format(supernova)).json()\n",
    "    if resp[supernova]['claimedtype'][0]['value'] == 'Ia':\n",
    "        type_1a.append({'name': supernova, \n",
    "                        'type': resp[supernova]['claimedtype'][0]['value'],\n",
    "                        'redshift':float(resp[supernova]['redshift'][0]['value'])\n",
    "                       })\n",
    "    "
   ]
  },
  {
   "cell_type": "code",
   "execution_count": 56,
   "id": "e193e828",
   "metadata": {},
   "outputs": [],
   "source": [
    "from bs4 import BeautifulSoup"
   ]
  },
  {
   "cell_type": "code",
   "execution_count": 57,
   "id": "f2536afc",
   "metadata": {},
   "outputs": [],
   "source": [
    "for supernova in type_1a:\n",
    "    with open('./ExpandingUniverseLab/ExpandingUniverseLab/sndata/{}.html'.format(supernova['name'])) as f:\n",
    "        soup = BeautifulSoup(f.read())\n",
    "        peak_mag = soup.find_all('p')[6].contents[0]\n",
    "        peak_mag = peak_mag.split('Peak mag : ')[1].split(' &pm; ')\n",
    "        supernova['peak_mag'] = float(peak_mag[0])\n",
    "        supernova['mag_error'] = float(peak_mag[1].strip())"
   ]
  },
  {
   "cell_type": "code",
   "execution_count": 58,
   "id": "b4c31412",
   "metadata": {},
   "outputs": [],
   "source": [
    "M = 19.6\n",
    "for supernova in type_1a:\n",
    "    supernova['distance'] = 10**((float(supernova['peak_mag']) + M + 5)/(5))"
   ]
  },
  {
   "cell_type": "code",
   "execution_count": 59,
   "id": "de6e8082",
   "metadata": {},
   "outputs": [],
   "source": [
    "from matplotlib import pyplot as plt"
   ]
  },
  {
   "cell_type": "code",
   "execution_count": 60,
   "id": "1323bca9",
   "metadata": {},
   "outputs": [],
   "source": [
    "import pandas as pd\n",
    "df = pd.DataFrame.from_dict(type_1a)"
   ]
  },
  {
   "cell_type": "code",
   "execution_count": 61,
   "id": "2482e407",
   "metadata": {},
   "outputs": [],
   "source": [
    "import numpy as np"
   ]
  },
  {
   "cell_type": "code",
   "execution_count": 62,
   "id": "b51d478f",
   "metadata": {},
   "outputs": [],
   "source": [
    "df['redshift_error'] = 0.005"
   ]
  },
  {
   "cell_type": "code",
   "execution_count": 63,
   "id": "d74dfc92",
   "metadata": {},
   "outputs": [
    {
     "data": {
      "text/plain": [
       "0     15.73\n",
       "1     15.97\n",
       "2     16.31\n",
       "3     15.96\n",
       "4     18.43\n",
       "5     18.14\n",
       "6     17.11\n",
       "7     17.70\n",
       "8     17.80\n",
       "9     17.44\n",
       "10    18.43\n",
       "11    17.65\n",
       "12    18.62\n",
       "13    18.52\n",
       "Name: peak_mag, dtype: float64"
      ]
     },
     "execution_count": 63,
     "metadata": {},
     "output_type": "execute_result"
    }
   ],
   "source": [
    "df['peak_mag']"
   ]
  },
  {
   "cell_type": "code",
   "execution_count": 64,
   "id": "0626a725",
   "metadata": {},
   "outputs": [],
   "source": [
    "df['distance_error'] = df['distance']* (df['mag_error']/df['peak_mag'])#np.sqrt((0.2 * np.log(10) * df['distance']) * (df['mag_error'])**2)"
   ]
  },
  {
   "cell_type": "code",
   "execution_count": 65,
   "id": "c1742aa6",
   "metadata": {},
   "outputs": [
    {
     "data": {
      "text/plain": [
       "0     1.164126e+08\n",
       "1     1.300170e+08\n",
       "2     1.520548e+08\n",
       "3     1.294196e+08\n",
       "4     4.036454e+08\n",
       "5     3.531832e+08\n",
       "6     2.197860e+08\n",
       "7     2.884032e+08\n",
       "8     3.019952e+08\n",
       "9     2.558586e+08\n",
       "10    4.036454e+08\n",
       "11    2.818383e+08\n",
       "12    4.405549e+08\n",
       "13    4.207266e+08\n",
       "Name: distance, dtype: float64"
      ]
     },
     "execution_count": 65,
     "metadata": {},
     "output_type": "execute_result"
    }
   ],
   "source": [
    "df['distance']"
   ]
  },
  {
   "cell_type": "code",
   "execution_count": 66,
   "id": "5c0866aa",
   "metadata": {},
   "outputs": [
    {
     "data": {
      "text/plain": [
       "0     2.220202e+05\n",
       "1     4.070662e+05\n",
       "2     5.593676e+05\n",
       "3     2.432699e+05\n",
       "4     1.533108e+06\n",
       "5     1.362890e+06\n",
       "6     7.707282e+05\n",
       "7     1.303517e+06\n",
       "8     8.483010e+05\n",
       "9     5.868316e+05\n",
       "10    1.533108e+06\n",
       "11    9.580905e+05\n",
       "12    2.129427e+06\n",
       "13    1.590219e+06\n",
       "Name: distance_error, dtype: float64"
      ]
     },
     "execution_count": 66,
     "metadata": {},
     "output_type": "execute_result"
    }
   ],
   "source": [
    "df['distance_error']"
   ]
  },
  {
   "cell_type": "markdown",
   "id": "d0c97008",
   "metadata": {},
   "source": [
    "## Task 4"
   ]
  },
  {
   "cell_type": "markdown",
   "id": "4f0f21d3",
   "metadata": {},
   "source": [
    "### 4.1 Supernovae distance determination"
   ]
  },
  {
   "cell_type": "code",
   "execution_count": 67,
   "id": "eb2d5bed",
   "metadata": {},
   "outputs": [],
   "source": [
    "from sklearn.linear_model import LinearRegression"
   ]
  },
  {
   "cell_type": "code",
   "execution_count": 68,
   "id": "0985389a",
   "metadata": {},
   "outputs": [
    {
     "data": {
      "text/plain": [
       "LinearRegression()"
      ]
     },
     "execution_count": 68,
     "metadata": {},
     "output_type": "execute_result"
    }
   ],
   "source": [
    "model = LinearRegression()\n",
    "rshift = np.array(df['redshift']).reshape(-1,1)\n",
    "model.fit(rshift, df['distance'])"
   ]
  },
  {
   "cell_type": "code",
   "execution_count": 69,
   "id": "74e55157",
   "metadata": {},
   "outputs": [
    {
     "name": "stdout",
     "output_type": "stream",
     "text": [
      "0.990145127464534\n"
     ]
    },
    {
     "data": {
      "text/plain": [
       "array([4.54226263e+09])"
      ]
     },
     "execution_count": 69,
     "metadata": {},
     "output_type": "execute_result"
    }
   ],
   "source": [
    "print(model.score(rshift, df['distance']))\n",
    "model.coef_"
   ]
  },
  {
   "cell_type": "markdown",
   "id": "7710a009",
   "metadata": {},
   "source": [
    "### => coresponds to 66.07 Hubble constant , 6.604637918e-5"
   ]
  },
  {
   "cell_type": "code",
   "execution_count": 70,
   "id": "a2a384e5",
   "metadata": {},
   "outputs": [
    {
     "data": {
      "text/plain": [
       "LinearRegression()"
      ]
     },
     "execution_count": 70,
     "metadata": {},
     "output_type": "execute_result"
    }
   ],
   "source": [
    "max_fit = LinearRegression()\n",
    "rshift = np.array(df['redshift']).reshape(-1,1)\n",
    "max_fit.fit(rshift, df['distance'] + df['distance_error'])"
   ]
  },
  {
   "cell_type": "code",
   "execution_count": 71,
   "id": "b02d85a2",
   "metadata": {},
   "outputs": [
    {
     "name": "stdout",
     "output_type": "stream",
     "text": [
      "0.9900424849663877\n"
     ]
    },
    {
     "data": {
      "text/plain": [
       "array([4.56361667e+09])"
      ]
     },
     "execution_count": 71,
     "metadata": {},
     "output_type": "execute_result"
    }
   ],
   "source": [
    "print(max_fit.score(rshift, df['distance']))\n",
    "\n",
    "max_fit.coef_"
   ]
  },
  {
   "cell_type": "markdown",
   "id": "4f58bb29",
   "metadata": {},
   "source": [
    "### => corresponds to 6.57373355×10−5"
   ]
  },
  {
   "cell_type": "code",
   "execution_count": 72,
   "id": "c264f9a0",
   "metadata": {},
   "outputs": [
    {
     "data": {
      "text/plain": [
       "LinearRegression()"
      ]
     },
     "execution_count": 72,
     "metadata": {},
     "output_type": "execute_result"
    }
   ],
   "source": [
    "min_fit = LinearRegression()\n",
    "rshift = np.array(df['redshift'] - df['redshift_error']).reshape(-1,1)\n",
    "min_fit.fit(rshift, df['distance'] - df['distance_error'])"
   ]
  },
  {
   "cell_type": "code",
   "execution_count": 73,
   "id": "15b62032",
   "metadata": {},
   "outputs": [
    {
     "name": "stdout",
     "output_type": "stream",
     "text": [
      "0.9900424849663877\n"
     ]
    },
    {
     "data": {
      "text/plain": [
       "array([4.52090858e+09])"
      ]
     },
     "execution_count": 73,
     "metadata": {},
     "output_type": "execute_result"
    }
   ],
   "source": [
    "print(min_fit.score(rshift, df['distance']))\n",
    "\n",
    "min_fit.coef_"
   ]
  },
  {
   "cell_type": "markdown",
   "id": "acf995b5",
   "metadata": {},
   "source": [
    "### => corresponds to 6.63583425×10−5"
   ]
  },
  {
   "cell_type": "markdown",
   "id": "d5709578",
   "metadata": {},
   "source": [
    "### => max - min = 0.0621007E-5"
   ]
  },
  {
   "cell_type": "code",
   "execution_count": 74,
   "id": "2f5772ad",
   "metadata": {},
   "outputs": [],
   "source": [
    "hubble_straight_model = np.linspace(0.02, 0.1, 100)\n",
    "predicted_distance = model.predict(hubble_straight_model[:, np.newaxis])"
   ]
  },
  {
   "cell_type": "code",
   "execution_count": 75,
   "id": "26369b44",
   "metadata": {},
   "outputs": [
    {
     "data": {
      "image/png": "[encoded data removed]",
      "text/plain": [
       "<Figure size 432x288 with 1 Axes>"
      ]
     },
     "metadata": {
      "needs_background": "light"
     },
     "output_type": "display_data"
    }
   ],
   "source": [
    "ax = plt.axes()\n",
    "plt.errorbar(df['redshift'], df['distance'] * 1E-6,xerr=df['redshift_error'] , yerr=df['distance_error'] * 1E-6,fmt='o', color=\"black\", label=\"Type Ia supernovae\")\n",
    "ax.plot(hubble_straight_model, predicted_distance * 1E-6, color=\"red\", label=\"\" )\n",
    "plt.xlabel('z')\n",
    "plt.ylabel('distance / MPc')\n",
    "plt.legend(loc='upper left')\n",
    "plt.title('Measured redshift for Type Ia supernovae')\n",
    "plt.savefig('measured_redshift_type_1a.png')"
   ]
  },
  {
   "cell_type": "code",
   "execution_count": 76,
   "id": "b02d5c00",
   "metadata": {},
   "outputs": [],
   "source": [
    "def simple_hubble_equation(z, c, h):\n",
    "        return (c * z)/h # returns expected distance"
   ]
  },
  {
   "cell_type": "code",
   "execution_count": 77,
   "id": "06d84aa0",
   "metadata": {},
   "outputs": [],
   "source": [
    "def massless_hubble_equation(z, c, h):\n",
    "    return ((c*z/h)*(1 + (z/2)))"
   ]
  },
  {
   "cell_type": "code",
   "execution_count": 78,
   "id": "60b59264",
   "metadata": {},
   "outputs": [],
   "source": [
    "import math\n",
    "def mass_dominated_hubble_equation(z, c, h):\n",
    "    return ((2*c/h)*(1 + z - math.sqrt(1 + z)))"
   ]
  },
  {
   "cell_type": "markdown",
   "id": "70d425e7",
   "metadata": {},
   "source": [
    "### 4.2  Determining the best fit model and Hubble's constant"
   ]
  },
  {
   "cell_type": "code",
   "execution_count": 189,
   "id": "b8224db7",
   "metadata": {},
   "outputs": [
    {
     "name": "stdout",
     "output_type": "stream",
     "text": [
      "[1858.219009397526, 1606.4204345432697, 1381.7469086818649, 1181.6944805909454, 1004.0150942934325, 846.687040666056, 707.8892363346533, 585.978780040508, 479.47132331546754, 387.0238641167308, 307.41963178414727, 239.55478149180465, 182.42665804229043, 135.12342382806946, 96.81487522171287, 66.74429650133676, 44.22122144252622, 28.614990546808794, 19.349007050408662, 15.895607795219247, 17.77147610213719, 24.533533259946413, 35.77525337611724, 51.12335333377328, 70.23481563277002, 92.79420710576059, 118.51126101285357, 147.11869393254602, 178.3702322678128, 212.03882614711824, 247.91503108225632, 285.8055400006404, 325.5318502435226, 366.9290518516728, 409.8447249787965, 454.1379356083163, 499.6783199249953, 546.3452487298102, 594.0270642022317, 642.6203821239386, 692.0294533951649, 742.1655793108849, 792.9465756287248, 844.2962809625503, 896.1441054825887, 948.4246163012401, 1001.0771562791576, 1054.0454933036694, 1107.2774973755954, 1160.724843094755]\n",
      "15.895607795219247\n"
     ]
    }
   ],
   "source": [
    "massless_dataset = []\n",
    "chisquare_series = []\n",
    "for i in range(50,100,1):\n",
    "    # i will be a  FACTOR the hubble constant\n",
    "    hubble_constant_iteration = []\n",
    "    chisum = 0\n",
    "    for j in range(len(df['redshift'])):\n",
    "        chisum += float(((massless_hubble_equation(z=df['redshift'][j], c=3E5, h = i) - df['distance'][j] * 1E-6)**2)/10**2)\n",
    "    #print(chisum)\n",
    "    chisquare_series.append(chisum)\n",
    "print(chisquare_series)\n",
    "print(np.min(chisquare_series))"
   ]
  },
  {
   "cell_type": "code",
   "execution_count": 167,
   "id": "c97a50bf",
   "metadata": {
    "scrolled": true
   },
   "outputs": [
    {
     "name": "stdout",
     "output_type": "stream",
     "text": [
      "16.528097355558295\n"
     ]
    }
   ],
   "source": [
    "mass_dominated_chisquare_series = []\n",
    "for i in range(50,100,1):\n",
    "    # i will be a  FACTOR the hubble constant\n",
    "    hubble_constant_iteration = []\n",
    "    chisum = 0\n",
    "    for j in range(len(df['redshift'])):\n",
    "        chisum += float(((mass_dominated_hubble_equation(z=df['redshift'][j], c=3E5, h = i) - df['distance'][j] * 1E-6)**2)/10**2)\n",
    "    #print(chisum)\n",
    "    mass_dominated_chisquare_series.append(chisum)\n",
    "print(np.min(mass_dominated_chisquare_series))"
   ]
  },
  {
   "cell_type": "code",
   "execution_count": 166,
   "id": "2c5bea84",
   "metadata": {},
   "outputs": [
    {
     "name": "stdout",
     "output_type": "stream",
     "text": [
      "17.892387074101247\n"
     ]
    }
   ],
   "source": [
    "simple_chisquare_series = []\n",
    "for i in range(50,100,1):\n",
    "    hubble_constant_iteration = []\n",
    "    chisum = 0\n",
    "    for j in range(len(df['redshift'])):\n",
    "        chisum += float(((simple_hubble_equation(z=df['redshift'][j], c=3E5, h = i) - df['distance'][j] * 1E-6)**2)/10**2)\n",
    "    simple_chisquare_series.append(chisum)\n",
    "print(np.min(simple_chisquare_series))"
   ]
  },
  {
   "cell_type": "code",
   "execution_count": 82,
   "id": "0493f426",
   "metadata": {
    "scrolled": true
   },
   "outputs": [
    {
     "data": {
      "image/png": "[encoded data removed]",
      "text/plain": [
       "<Figure size 432x288 with 1 Axes>"
      ]
     },
     "metadata": {
      "needs_background": "light"
     },
     "output_type": "display_data"
    }
   ],
   "source": [
    "plt.plot([i for i in range(50,100,1)], simple_chisquare_series, label=\"Simple\", linewidth=1)\n",
    "plt.plot([i for i in range(50,100,1)], mass_dominated_chisquare_series, label=\"Mass dominated\", linewidth=1, color=\"green\")\n",
    "plt.plot([i for i in range(50,100,1)], chisquare_series, label=\"Massless\", linewidth=1, color=\"red\")\n",
    "plt.ylabel(\"$ \\chi^{2}$\")\n",
    "plt.xlabel(\"$H_{0}$ / $kms^{-1} \\cdot MPc^{-1}$\")\n",
    "plt.legend(loc=\"lower center\")\n",
    "plt.legend(loc=\"upper center\")\n",
    "plt.title('$\\chi^{2}$ and the Hubble constant - inspection of the models.')\n",
    "plt.savefig('chisqaure_fit_models.png')"
   ]
  },
  {
   "cell_type": "code",
   "execution_count": 170,
   "id": "ceafd992",
   "metadata": {},
   "outputs": [
    {
     "data": {
      "image/png": "[encoded data removed]",
      "text/plain": [
       "<Figure size 432x288 with 1 Axes>"
      ]
     },
     "metadata": {
      "needs_background": "light"
     },
     "output_type": "display_data"
    }
   ],
   "source": [
    "plt.plot([i for i in range(65,75,1)], simple_chisquare_series[14:24],  label=\"Simple\")\n",
    "plt.plot([i for i in range(65,75,1)], mass_dominated_chisquare_series[14:24], label=\"Mass dominated\")\n",
    "plt.plot([i for i in range(65,75,1)], chisquare_series[14:24],  label=\"Massless\")\n",
    "\n",
    "plt.xlim( [ 66, 72 ] ) \n",
    "plt.ylim( [ 10, 25 ] )\n",
    "plt.ylabel(\"$ \\chi^{2}$\")\n",
    "plt.xlabel(\"$H_{0}$ / $kms^{-1} \\cdot MPc^{-1}$\")\n",
    "plt.axvline(x=70, color='red', linestyle='dotted', linewidth=1)\n",
    "plt.axhline(y=15.8,color='red', linestyle='dotted', linewidth=1)\n",
    "# Y ticks every 50.  You can provide any list.\n",
    "#plt.# Plot from y=0 to y=250.\n",
    "plt.legend(loc=\"lower left\")\n",
    "plt.savefig('zoomed_in_chi_square.png')"
   ]
  },
  {
   "cell_type": "markdown",
   "id": "27074c07",
   "metadata": {},
   "source": [
    "## Task 5"
   ]
  },
  {
   "cell_type": "code",
   "execution_count": 201,
   "id": "b526eaed",
   "metadata": {},
   "outputs": [],
   "source": [
    "reiss_data = pd.read_csv('./ExpandingUniverseLab/ExpandingUniverseLab/sndata/reiss1998.txt',delimiter=\"\\t\")"
   ]
  },
  {
   "cell_type": "code",
   "execution_count": 202,
   "id": "0c7fd767",
   "metadata": {},
   "outputs": [
    {
     "data": {
      "text/html": [
       "<div>\n",
       "<style scoped>\n",
       "    .dataframe tbody tr th:only-of-type {\n",
       "        vertical-align: middle;\n",
       "    }\n",
       "\n",
       "    .dataframe tbody tr th {\n",
       "        vertical-align: top;\n",
       "    }\n",
       "\n",
       "    .dataframe thead th {\n",
       "        text-align: right;\n",
       "    }\n",
       "</style>\n",
       "<table border=\"1\" class=\"dataframe\">\n",
       "  <thead>\n",
       "    <tr style=\"text-align: right;\">\n",
       "      <th></th>\n",
       "      <th>SN</th>\n",
       "      <th>z</th>\n",
       "      <th>z_error</th>\n",
       "      <th>mod_d</th>\n",
       "      <th>d_error</th>\n",
       "    </tr>\n",
       "  </thead>\n",
       "  <tbody>\n",
       "    <tr>\n",
       "      <th>0</th>\n",
       "      <td>1996E</td>\n",
       "      <td>0.43</td>\n",
       "      <td>0.01</td>\n",
       "      <td>41.74</td>\n",
       "      <td>0.38</td>\n",
       "    </tr>\n",
       "    <tr>\n",
       "      <th>1</th>\n",
       "      <td>1996H</td>\n",
       "      <td>0.62</td>\n",
       "      <td>0.01</td>\n",
       "      <td>42.98</td>\n",
       "      <td>0.17</td>\n",
       "    </tr>\n",
       "    <tr>\n",
       "      <th>2</th>\n",
       "      <td>1996I</td>\n",
       "      <td>0.57</td>\n",
       "      <td>0.01</td>\n",
       "      <td>42.76</td>\n",
       "      <td>0.19</td>\n",
       "    </tr>\n",
       "    <tr>\n",
       "      <th>3</th>\n",
       "      <td>1996J</td>\n",
       "      <td>0.30</td>\n",
       "      <td>0.01</td>\n",
       "      <td>41.38</td>\n",
       "      <td>0.24</td>\n",
       "    </tr>\n",
       "    <tr>\n",
       "      <th>4</th>\n",
       "      <td>1996K</td>\n",
       "      <td>0.38</td>\n",
       "      <td>0.01</td>\n",
       "      <td>41.63</td>\n",
       "      <td>0.20</td>\n",
       "    </tr>\n",
       "    <tr>\n",
       "      <th>5</th>\n",
       "      <td>1996U</td>\n",
       "      <td>0.43</td>\n",
       "      <td>0.01</td>\n",
       "      <td>42.55</td>\n",
       "      <td>0.25</td>\n",
       "    </tr>\n",
       "    <tr>\n",
       "      <th>6</th>\n",
       "      <td>1997ce</td>\n",
       "      <td>0.44</td>\n",
       "      <td>0.01</td>\n",
       "      <td>41.95</td>\n",
       "      <td>0.17</td>\n",
       "    </tr>\n",
       "    <tr>\n",
       "      <th>7</th>\n",
       "      <td>1997cj</td>\n",
       "      <td>0.50</td>\n",
       "      <td>0.01</td>\n",
       "      <td>42.40</td>\n",
       "      <td>0.17</td>\n",
       "    </tr>\n",
       "    <tr>\n",
       "      <th>8</th>\n",
       "      <td>1997ck</td>\n",
       "      <td>0.97</td>\n",
       "      <td>0.01</td>\n",
       "      <td>44.39</td>\n",
       "      <td>0.30</td>\n",
       "    </tr>\n",
       "    <tr>\n",
       "      <th>9</th>\n",
       "      <td>1995K</td>\n",
       "      <td>0.48</td>\n",
       "      <td>0.01</td>\n",
       "      <td>42.45</td>\n",
       "      <td>0.17</td>\n",
       "    </tr>\n",
       "  </tbody>\n",
       "</table>\n",
       "</div>"
      ],
      "text/plain": [
       "       SN     z  z_error  mod_d  d_error\n",
       "0   1996E  0.43     0.01  41.74     0.38\n",
       "1   1996H  0.62     0.01  42.98     0.17\n",
       "2   1996I  0.57     0.01  42.76     0.19\n",
       "3   1996J  0.30     0.01  41.38     0.24\n",
       "4   1996K  0.38     0.01  41.63     0.20\n",
       "5   1996U  0.43     0.01  42.55     0.25\n",
       "6  1997ce  0.44     0.01  41.95     0.17\n",
       "7  1997cj  0.50     0.01  42.40     0.17\n",
       "8  1997ck  0.97     0.01  44.39     0.30\n",
       "9   1995K  0.48     0.01  42.45     0.17"
      ]
     },
     "execution_count": 202,
     "metadata": {},
     "output_type": "execute_result"
    }
   ],
   "source": [
    "reiss_data"
   ]
  },
  {
   "cell_type": "code",
   "execution_count": 203,
   "id": "fa5b7088",
   "metadata": {},
   "outputs": [],
   "source": [
    "reiss_data['d'] = 10**((reiss_data['mod_d'] + 5)/5)\n",
    "reiss_data['d_error'] = np.sqrt(np.log(10) * reiss_data['d'] * reiss_data['d_error'])"
   ]
  },
  {
   "cell_type": "code",
   "execution_count": 204,
   "id": "f12af193",
   "metadata": {},
   "outputs": [],
   "source": [
    "hubble_straight_model_extended = np.linspace(0, 1, 100)\n",
    "predicted_distance_extended = model.predict(hubble_straight_model[:, np.newaxis])"
   ]
  },
  {
   "cell_type": "code",
   "execution_count": 205,
   "id": "32d56984",
   "metadata": {},
   "outputs": [],
   "source": [
    "hubble_massless_model = np.linspace(0, 1, 100)\n",
    "predicted_distance_massless = [massless_hubble_equation(z=i, c=3E5, h=70 ) for i in hubble_massless_model]"
   ]
  },
  {
   "cell_type": "code",
   "execution_count": 206,
   "id": "5b28dccc",
   "metadata": {},
   "outputs": [],
   "source": [
    "hubble_mass_dominant_model = np.linspace(0, 1, 100)\n",
    "predicted_distance_mass_dominant = [mass_dominated_hubble_equation(z=i, c=3E5, h=70 ) for i in hubble_massless_model]"
   ]
  },
  {
   "cell_type": "code",
   "execution_count": 207,
   "id": "825612b1",
   "metadata": {},
   "outputs": [
    {
     "data": {
      "image/png": "[encoded data removed]",
      "text/plain": [
       "<Figure size 432x288 with 1 Axes>"
      ]
     },
     "metadata": {
      "needs_background": "light"
     },
     "output_type": "display_data"
    }
   ],
   "source": [
    "plt.errorbar(reiss_data['z'] , reiss_data['d'] * 1E-6, xerr=reiss_data['z_error'], yerr=reiss_data['d_error']  * 1E-6, fmt=\"o\", color=\"black\")\n",
    "plt.plot(hubble_straight_model_extended, predicted_distance_extended * 1E-6, color=\"blue\", label=\"(Linear)\")\n",
    "plt.plot(hubble_massless_model, predicted_distance_massless, color=\"red\", label=\"(Massless)\")\n",
    "plt.plot(hubble_mass_dominant_model, predicted_distance_mass_dominant, color=\"green\", label=\"(Mass dominant)\")\n",
    "plt.legend(loc=\"upper left\")\n",
    "plt.ylabel('distance / Mpc')\n",
    "plt.xlabel('z')\n",
    "plt.title(\"Reiss data for higher redshifts\")\n",
    "plt.savefig(\"reiss_data.png\")"
   ]
  },
  {
   "cell_type": "code",
   "execution_count": 208,
   "id": "e77e2810",
   "metadata": {},
   "outputs": [
    {
     "name": "stdout",
     "output_type": "stream",
     "text": [
      "7853.744778380804\n"
     ]
    }
   ],
   "source": [
    "#mass_dominated_dataset = []\n",
    "nobel_massless_chisquare_series = []\n",
    "for i in range(50,100,1):\n",
    "    # i will be a  FACTOR the hubble constant\n",
    "    chisum = 0\n",
    "    for j in range(len(reiss_data['z'])):\n",
    "        #print(simple_hubble_equation(z=df['redshift'][j], c=3E5, h = i))\n",
    "        chisum += float(((massless_hubble_equation(z=reiss_data['z'][j], c=3E5, h = i) - reiss_data['d'][j] * 1E-6)**2)/10**2)\n",
    "    #print(chisum)\n",
    "    nobel_massless_chisquare_series.append(chisum)\n",
    "print(np.min(nobel_massless_chisquare_series))"
   ]
  },
  {
   "cell_type": "code",
   "execution_count": 209,
   "id": "6f3a54ad",
   "metadata": {},
   "outputs": [
    {
     "name": "stdout",
     "output_type": "stream",
     "text": [
      "[15802.698629778828, 16139.894339107997, 17426.89214141251, 19556.46140887349, 22433.20178925188, 25972.1207636952, 30097.400119797294, 34741.323734680554, 39843.34346761499, 45349.26360497645, 51210.52732377112, 57383.591156951334, 63829.37554558846, 70512.78132331955, 77402.26345704464, 84469.45461316951, 91688.83217034306, 99037.42319005876, 106494.54261226651, 114041.56058619061, 121661.69539497419, 129339.82890154333, 137062.34184467065, 144816.9666589704, 152592.6557891379, 160379.46372440402, 168168.44119996752, 175951.5402032449, 183721.52858840438, 191471.9132465073, 199196.87090372483, 206891.18572915898, 214550.19302899644, 222169.72838695292, 229746.0816838509, 237275.95549308957, 244756.42740490523, 252184.91588169805, 259559.14929019273, 266877.1377945612, 274137.1478285151, 281337.67889433797, 288477.4424633553, 295555.3427758646, 302570.4593594221, 309522.03110294073, 316409.4417405614, 323232.20661396265, 329989.96059488965, 336682.44706138695]\n",
      "15802.698629778828\n"
     ]
    }
   ],
   "source": [
    "#mass_dominated_dataset = []\n",
    "nobel_mass_dominant_chisquare_series = []\n",
    "for i in range(50,100,1):\n",
    "    # i will be a  FACTOR the hubble constant\n",
    "    chisum = 0\n",
    "    for j in range(len(reiss_data['z'])):\n",
    "        #print(simple_hubble_equation(z=df['redshift'][j], c=3E5, h = i))\n",
    "        chisum += float(((mass_dominated_hubble_equation(z=reiss_data['z'][j], c=3E5, h = i) - reiss_data['d'][j] * 1E-6)**2)/10**2)\n",
    "    #print(chisum)\n",
    "    nobel_mass_dominant_chisquare_series.append(chisum)\n",
    "print(nobel_mass_dominant_chisquare_series)\n",
    "print(np.min(nobel_mass_dominant_chisquare_series))"
   ]
  },
  {
   "cell_type": "markdown",
   "id": "db786cbc",
   "metadata": {},
   "source": [
    "## Task 6"
   ]
  },
  {
   "cell_type": "code",
   "execution_count": 124,
   "id": "d8ff4294",
   "metadata": {},
   "outputs": [],
   "source": [
    "theoretical_DL = pd.read_csv('./ExpandingUniverseLab/ExpandingUniverseLab/sndata/theoretical_DL.txt', delimiter=r\"\\s+\")"
   ]
  },
  {
   "cell_type": "code",
   "execution_count": 125,
   "id": "f3fe0f02",
   "metadata": {},
   "outputs": [
    {
     "data": {
      "text/html": [
       "<div>\n",
       "<style scoped>\n",
       "    .dataframe tbody tr th:only-of-type {\n",
       "        vertical-align: middle;\n",
       "    }\n",
       "\n",
       "    .dataframe tbody tr th {\n",
       "        vertical-align: top;\n",
       "    }\n",
       "\n",
       "    .dataframe thead th {\n",
       "        text-align: right;\n",
       "    }\n",
       "</style>\n",
       "<table border=\"1\" class=\"dataframe\">\n",
       "  <thead>\n",
       "    <tr style=\"text-align: right;\">\n",
       "      <th></th>\n",
       "      <th>redshift</th>\n",
       "      <th>theoretical_distance</th>\n",
       "    </tr>\n",
       "  </thead>\n",
       "  <tbody>\n",
       "    <tr>\n",
       "      <th>0</th>\n",
       "      <td>0.0001</td>\n",
       "      <td>0.856767</td>\n",
       "    </tr>\n",
       "    <tr>\n",
       "      <th>1</th>\n",
       "      <td>0.0003</td>\n",
       "      <td>1.713800</td>\n",
       "    </tr>\n",
       "    <tr>\n",
       "      <th>2</th>\n",
       "      <td>0.0005</td>\n",
       "      <td>2.571098</td>\n",
       "    </tr>\n",
       "    <tr>\n",
       "      <th>3</th>\n",
       "      <td>0.0007</td>\n",
       "      <td>3.428662</td>\n",
       "    </tr>\n",
       "    <tr>\n",
       "      <th>4</th>\n",
       "      <td>0.0009</td>\n",
       "      <td>4.286491</td>\n",
       "    </tr>\n",
       "    <tr>\n",
       "      <th>...</th>\n",
       "      <td>...</td>\n",
       "      <td>...</td>\n",
       "    </tr>\n",
       "    <tr>\n",
       "      <th>9995</th>\n",
       "      <td>1.9995</td>\n",
       "      <td>15535.239000</td>\n",
       "    </tr>\n",
       "    <tr>\n",
       "      <th>9996</th>\n",
       "      <td>1.9997</td>\n",
       "      <td>15537.142000</td>\n",
       "    </tr>\n",
       "    <tr>\n",
       "      <th>9997</th>\n",
       "      <td>1.9999</td>\n",
       "      <td>15539.044000</td>\n",
       "    </tr>\n",
       "    <tr>\n",
       "      <th>9998</th>\n",
       "      <td>2.0001</td>\n",
       "      <td>15540.947000</td>\n",
       "    </tr>\n",
       "    <tr>\n",
       "      <th>9999</th>\n",
       "      <td>2.0003</td>\n",
       "      <td>15542.849000</td>\n",
       "    </tr>\n",
       "  </tbody>\n",
       "</table>\n",
       "<p>10000 rows × 2 columns</p>\n",
       "</div>"
      ],
      "text/plain": [
       "      redshift  theoretical_distance\n",
       "0       0.0001              0.856767\n",
       "1       0.0003              1.713800\n",
       "2       0.0005              2.571098\n",
       "3       0.0007              3.428662\n",
       "4       0.0009              4.286491\n",
       "...        ...                   ...\n",
       "9995    1.9995          15535.239000\n",
       "9996    1.9997          15537.142000\n",
       "9997    1.9999          15539.044000\n",
       "9998    2.0001          15540.947000\n",
       "9999    2.0003          15542.849000\n",
       "\n",
       "[10000 rows x 2 columns]"
      ]
     },
     "execution_count": 125,
     "metadata": {},
     "output_type": "execute_result"
    }
   ],
   "source": [
    "theoretical_DL"
   ]
  },
  {
   "cell_type": "code",
   "execution_count": 126,
   "id": "7317d6a1",
   "metadata": {},
   "outputs": [
    {
     "data": {
      "image/png": "[encoded data removed]",
      "text/plain": [
       "<Figure size 432x288 with 1 Axes>"
      ]
     },
     "metadata": {
      "needs_background": "light"
     },
     "output_type": "display_data"
    }
   ],
   "source": [
    "plt.plot(theoretical_DL['redshift'], theoretical_DL['theoretical_distance'], color=\"red\", label=\"Mass and dark energy theoretical curve\")\n",
    "plt.errorbar(reiss_data['z'] , reiss_data['d'] * 1E-6, xerr=reiss_data['z_error'], yerr=reiss_data['d_error']  * 1E-6, fmt=\"o\", color=\"black\", label=\"Reiss\")\n",
    "plt.errorbar(df['redshift'], df['distance'] * 1E-6,xerr=df['redshift_error'] , yerr=df['distance_error'] * 1E-6,fmt='o', color=\"grey\", label=\"Type Ia supernovae\")\n",
    "plt.xlim([0.002, 1.00])\n",
    "plt.ylim([0, 8500])\n",
    "plt.legend(loc=\"upper left\")\n",
    "plt.xlabel('z')\n",
    "plt.ylabel('distance / MPc')\n",
    "plt.title(\"Mass and dark energy dominated universe\")\n",
    "plt.savefig(\"mass_and_dark_energy_dominated.png\")"
   ]
  },
  {
   "cell_type": "code",
   "execution_count": 133,
   "id": "4eac4527",
   "metadata": {
    "scrolled": true
   },
   "outputs": [],
   "source": [
    "interpolated_values = []\n",
    "for i in df['redshift']:\n",
    "\n",
    "    close_values = theoretical_DL.query('redshift >= {} and redshift <= {}'.format(i - 0.0005, i + 0.0005))\n",
    "    closest_value = round(float(min(close_values['redshift'], key = lambda x: abs(x-i))), 6)\n",
    "  \n",
    "\n",
    "    x = theoretical_DL.query('redshift >= {} and redshift < {}'.format(closest_value, closest_value + 0.0005))\n",
    "    interpolated_values.append(x.iloc[0])"
   ]
  },
  {
   "cell_type": "code",
   "execution_count": 151,
   "id": "d8b12781",
   "metadata": {},
   "outputs": [
    {
     "name": "stdout",
     "output_type": "stream",
     "text": [
      "15.83234714866088\n"
     ]
    }
   ],
   "source": [
    "task6_chisquare_series = []\n",
    "chisum = 0\n",
    "for j in range(len(df['redshift'])):\n",
    "    chisum += float(((df['distance'][j] *1E-6 -  interpolated_values[j]['theoretical_distance'])**2)/10**2)\n",
    "print(chisum)"
   ]
  },
  {
   "cell_type": "code",
   "execution_count": 152,
   "id": "da3dc1ce",
   "metadata": {},
   "outputs": [],
   "source": [
    "interpolated_values = []\n",
    "for i in reiss_data['z']:\n",
    "\n",
    "    close_values = theoretical_DL.query('redshift >= {} and redshift <= {}'.format(i - 0.0005, i + 0.0005))\n",
    "    closest_value = round(float(min(close_values['redshift'], key = lambda x: abs(x-i))), 6)\n",
    "  \n",
    "\n",
    "    x = theoretical_DL.query('redshift >= {} and redshift < {}'.format(closest_value, closest_value + 0.0005))\n",
    "    interpolated_values.append(x.iloc[0])"
   ]
  },
  {
   "cell_type": "code",
   "execution_count": 153,
   "id": "0783414a",
   "metadata": {},
   "outputs": [
    {
     "data": {
      "text/plain": [
       "0    44157.008402\n",
       "1    39294.548682\n",
       "2    39489.773686\n",
       "3    32300.813870\n",
       "4    31233.657396\n",
       "5    43159.643495\n",
       "6    30997.902295\n",
       "7    34382.092551\n",
       "8    72221.827184\n",
       "9    34780.218419\n",
       "Name: d_error, dtype: float64"
      ]
     },
     "execution_count": 153,
     "metadata": {},
     "output_type": "execute_result"
    }
   ],
   "source": [
    "reiss_data['d_error']"
   ]
  },
  {
   "cell_type": "code",
   "execution_count": 154,
   "id": "fe33285a",
   "metadata": {},
   "outputs": [
    {
     "name": "stdout",
     "output_type": "stream",
     "text": [
      "1040830089.2594991\n"
     ]
    }
   ],
   "source": [
    "task6_reiss_chisquare_series = []\n",
    "chisum_reiss = 0\n",
    "for j in range(len(reiss_data['z'])):\n",
    "    chisum_reiss += float(((reiss_data['d'][j] *1E-6 -  interpolated_values[j]['theoretical_distance'])**2)/(reiss_data['d_error'][j]* 1E-6)**2)\n",
    "print(chisum_reiss)"
   ]
  },
  {
   "cell_type": "code",
   "execution_count": null,
   "id": "2812a309",
   "metadata": {},
   "outputs": [],
   "source": []
  },
  {
   "cell_type": "code",
   "execution_count": null,
   "id": "85de6f9f",
   "metadata": {},
   "outputs": [],
   "source": []
  }
 ],
 "metadata": {
  "kernelspec": {
   "display_name": "Python 3",
   "language": "python",
   "name": "python3"
  },
  "language_info": {
   "codemirror_mode": {
    "name": "ipython",
    "version": 3
   },
   "file_extension": ".py",
   "mimetype": "text/x-python",
   "name": "python",
   "nbconvert_exporter": "python",
   "pygments_lexer": "ipython3",
   "version": "3.8.8"
  }
 },
 "nbformat": 4,
 "nbformat_minor": 5
}
